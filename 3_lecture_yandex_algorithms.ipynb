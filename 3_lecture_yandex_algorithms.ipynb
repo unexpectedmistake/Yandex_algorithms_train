{
 "cells": [
  {
   "cell_type": "markdown",
   "id": "8cf11976",
   "metadata": {},
   "source": [
    "## Лекция 3 - Множества\n",
    "[Link](https://youtu.be/PUpmV2ieIHA)"
   ]
  },
  {
   "cell_type": "markdown",
   "id": "215a4069",
   "metadata": {},
   "source": [
    "> Terminology\n",
    "\n",
    "* F(X) = X % setsize - hash-function (can be different)\n",
    "* myset - hash-table\n",
    "* Matching hash-function values for different parameters - collision"
   ]
  },
  {
   "cell_type": "markdown",
   "id": "25af0cf0",
   "metadata": {},
   "source": [
    "### Creating set by ourselves"
   ]
  },
  {
   "cell_type": "code",
   "execution_count": 5,
   "id": "50f760ca",
   "metadata": {
    "ExecuteTime": {
     "end_time": "2022-05-27T14:32:58.411124Z",
     "start_time": "2022-05-27T14:32:58.395446Z"
    }
   },
   "outputs": [
    {
     "data": {
      "text/plain": [
       "[[], [], [], [], [], [], [], [], [], []]"
      ]
     },
     "execution_count": 5,
     "metadata": {},
     "output_type": "execute_result"
    }
   ],
   "source": [
    "setsize = 10\n",
    "myset = [[] for _ in range(setsize)]\n",
    "myset"
   ]
  },
  {
   "cell_type": "code",
   "execution_count": 2,
   "id": "710d57a6",
   "metadata": {
    "ExecuteTime": {
     "end_time": "2022-05-27T14:30:53.591265Z",
     "start_time": "2022-05-27T14:30:53.585502Z"
    }
   },
   "outputs": [],
   "source": [
    "def add(x):\n",
    "    myset[x % setzise].append(x)"
   ]
  },
  {
   "cell_type": "code",
   "execution_count": 3,
   "id": "a9c36fc8",
   "metadata": {
    "ExecuteTime": {
     "end_time": "2022-05-27T14:31:19.138535Z",
     "start_time": "2022-05-27T14:31:19.133764Z"
    }
   },
   "outputs": [],
   "source": [
    "def find(x):\n",
    "    for now in myset[x % setsize]:\n",
    "        if now == x:\n",
    "            return True\n",
    "    return False"
   ]
  },
  {
   "cell_type": "code",
   "execution_count": 4,
   "id": "9feeab73",
   "metadata": {
    "ExecuteTime": {
     "end_time": "2022-05-27T14:32:40.343816Z",
     "start_time": "2022-05-27T14:32:40.337859Z"
    }
   },
   "outputs": [],
   "source": [
    "def delete(x):\n",
    "    xlist = myset[x % setsize]\n",
    "    for i in range(len(xlist)):\n",
    "        if xlist[i] == x:\n",
    "            xlist[i], xlist[len(xlist)-1] = xlist[len(xlist)-1], xlist[i]\n",
    "            xlist.pop()\n",
    "            return"
   ]
  },
  {
   "cell_type": "markdown",
   "id": "6734b507",
   "metadata": {},
   "source": [
    "> Что можно хранить в множестве эффективно?\n",
    "* Эффектвино - только неизменяемые объекты\n",
    "* Для неизменяемых объектов можно посчитать значения хеш-функции при создании\n",
    "* Хеш-функция должна давать равномерное распределение"
   ]
  },
  {
   "cell_type": "markdown",
   "id": "ee58b141",
   "metadata": {},
   "source": [
    "> Проблемы хеш-таблицы\n",
    "* Слишком большой размер - ест много памяти O(N)\n",
    "* Слишком маленький размер - большой коэффициент заполнения и медленный поиск и удаление O(K/N)\n",
    "* Хочется иметь разумный баланс, например, коэффициент заполнения не больше единицы. Тогда все операции в среднем будут занимать O(1)\n",
    "\n",
    "=>> Решение - увеличение размера вдвое и перестройка таблицы, когда она наполнится"
   ]
  },
  {
   "cell_type": "code",
   "execution_count": null,
   "id": "05b38f4c",
   "metadata": {},
   "outputs": [],
   "source": []
  },
  {
   "cell_type": "markdown",
   "id": "b8105d29",
   "metadata": {},
   "source": [
    "### Домашнее задание\n",
    "[Link](https://contest.yandex.ru/contest/28964)"
   ]
  },
  {
   "cell_type": "code",
   "execution_count": 1,
   "id": "db70a549",
   "metadata": {
    "ExecuteTime": {
     "end_time": "2022-05-30T08:28:59.386502Z",
     "start_time": "2022-05-30T08:28:59.378068Z"
    }
   },
   "outputs": [],
   "source": [
    "# A. Количество совпадающих"
   ]
  },
  {
   "cell_type": "code",
   "execution_count": 16,
   "id": "7351d774",
   "metadata": {
    "ExecuteTime": {
     "end_time": "2022-05-30T08:36:56.271652Z",
     "start_time": "2022-05-30T08:36:40.621230Z"
    }
   },
   "outputs": [
    {
     "name": "stdout",
     "output_type": "stream",
     "text": [
      "1 7 3 8 10 2 5\n",
      "6 5 2 8 4 3 7\n",
      "5\n"
     ]
    }
   ],
   "source": [
    "a = [int(x) for x in input().split()]\n",
    "b = [int(x) for x in input().split()]\n",
    "count = 0\n",
    "for i in set(a):\n",
    "    if i in set(b):\n",
    "        count +=1\n",
    "print(count)"
   ]
  },
  {
   "cell_type": "code",
   "execution_count": 24,
   "id": "643367f5",
   "metadata": {
    "ExecuteTime": {
     "end_time": "2022-05-30T08:41:50.926551Z",
     "start_time": "2022-05-30T08:41:45.535484Z"
    }
   },
   "outputs": [
    {
     "name": "stdout",
     "output_type": "stream",
     "text": [
      "1 2 6 4 5 7\n",
      "10 2 3 4 8\n",
      "2\n"
     ]
    }
   ],
   "source": [
    "a = [int(x) for x in input().split()]\n",
    "b = [int(x) for x in input().split()]\n",
    "print(len(set(a)) - len(set(a)-set(b)))"
   ]
  },
  {
   "cell_type": "code",
   "execution_count": 2,
   "id": "cf0eb50f",
   "metadata": {
    "ExecuteTime": {
     "end_time": "2022-05-30T08:29:12.842632Z",
     "start_time": "2022-05-30T08:29:12.839472Z"
    }
   },
   "outputs": [],
   "source": [
    "# B. Встречалось ли число раньше"
   ]
  },
  {
   "cell_type": "code",
   "execution_count": 25,
   "id": "0626c42f",
   "metadata": {
    "ExecuteTime": {
     "end_time": "2022-05-30T08:59:07.529393Z",
     "start_time": "2022-05-30T08:59:03.323955Z"
    }
   },
   "outputs": [
    {
     "name": "stdout",
     "output_type": "stream",
     "text": [
      "1 2 3 2 3 4\n"
     ]
    }
   ],
   "source": [
    "a = [int(x) for x in input().split()]\n",
    "\n",
    "seq = set()\n",
    "for i in a:\n",
    "    if i in seq:\n",
    "        print('YES')\n",
    "    else:\n",
    "        print('NO')\n",
    "        seq.add(i)"
   ]
  },
  {
   "cell_type": "code",
   "execution_count": null,
   "id": "303c42c6",
   "metadata": {},
   "outputs": [],
   "source": [
    "# C. Уникальные элементы"
   ]
  },
  {
   "cell_type": "code",
   "execution_count": 45,
   "id": "592b908c",
   "metadata": {
    "ExecuteTime": {
     "end_time": "2022-05-30T09:46:23.728394Z",
     "start_time": "2022-05-30T09:46:22.615183Z"
    }
   },
   "outputs": [
    {
     "name": "stdout",
     "output_type": "stream",
     "text": [
      "4 3 5 2 5 1 3 5\n"
     ]
    }
   ],
   "source": [
    "a = [int(x) for x in input().split()]\n",
    "\n",
    "for i in range(len(a)):\n",
    "    for j in range(len(a)):\n",
    "        if i != j and a[i] == a[j]:\n",
    "            break\n",
    "    else:\n",
    "        print(a[i], end=' ')"
   ]
  },
  {
   "cell_type": "code",
   "execution_count": null,
   "id": "bcaab686",
   "metadata": {},
   "outputs": [],
   "source": []
  },
  {
   "cell_type": "code",
   "execution_count": null,
   "id": "8038ec65",
   "metadata": {},
   "outputs": [],
   "source": [
    "# D. Угадай число"
   ]
  },
  {
   "cell_type": "code",
   "execution_count": null,
   "id": "9dce16fe",
   "metadata": {},
   "outputs": [],
   "source": [
    "max_num = int(input())\n",
    "left = [int(x) for x in input().split()]"
   ]
  },
  {
   "cell_type": "code",
   "execution_count": null,
   "id": "c7685b27",
   "metadata": {},
   "outputs": [],
   "source": []
  },
  {
   "cell_type": "code",
   "execution_count": null,
   "id": "c76aac48",
   "metadata": {},
   "outputs": [],
   "source": []
  },
  {
   "cell_type": "code",
   "execution_count": null,
   "id": "b4edc4bd",
   "metadata": {},
   "outputs": [],
   "source": []
  },
  {
   "cell_type": "code",
   "execution_count": null,
   "id": "0c453521",
   "metadata": {},
   "outputs": [],
   "source": [
    "# E. Автомобильные номера"
   ]
  },
  {
   "cell_type": "code",
   "execution_count": null,
   "id": "546261ed",
   "metadata": {},
   "outputs": [],
   "source": []
  },
  {
   "cell_type": "code",
   "execution_count": null,
   "id": "ed40301b",
   "metadata": {},
   "outputs": [],
   "source": []
  },
  {
   "cell_type": "code",
   "execution_count": null,
   "id": "e0cdb652",
   "metadata": {},
   "outputs": [],
   "source": []
  },
  {
   "cell_type": "code",
   "execution_count": null,
   "id": "4d55c692",
   "metadata": {},
   "outputs": [],
   "source": []
  }
 ],
 "metadata": {
  "kernelspec": {
   "display_name": "Python 3 (ipykernel)",
   "language": "python",
   "name": "python3"
  },
  "language_info": {
   "codemirror_mode": {
    "name": "ipython",
    "version": 3
   },
   "file_extension": ".py",
   "mimetype": "text/x-python",
   "name": "python",
   "nbconvert_exporter": "python",
   "pygments_lexer": "ipython3",
   "version": "3.9.7"
  }
 },
 "nbformat": 4,
 "nbformat_minor": 5
}
