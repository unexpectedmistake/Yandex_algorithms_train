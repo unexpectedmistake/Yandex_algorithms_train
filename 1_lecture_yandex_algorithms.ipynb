{
 "cells": [
  {
   "cell_type": "markdown",
   "id": "4f23754c",
   "metadata": {},
   "source": [
    "## Лекция 1 - Сложность, тестирование и особые случаи"
   ]
  },
  {
   "cell_type": "markdown",
   "id": "a05dc0d6",
   "metadata": {},
   "source": [
    "### Задача 1\n",
    "Переберем все позиции и для каждой позиции в строке еще раз переберем все позиции и в случае совпадения прибавим к счетчику единицу. Найдем максимальное значение счетчика."
   ]
  },
  {
   "cell_type": "markdown",
   "id": "4d11d4f5",
   "metadata": {},
   "source": [
    "####  Решение 1 - O(n^2)\n"
   ]
  },
  {
   "cell_type": "code",
   "execution_count": null,
   "id": "507cc47a",
   "metadata": {},
   "outputs": [],
   "source": [
    "s = input()\n",
    "ans = ''\n",
    "anscnt = 0 \n",
    "for i in range(len(s)):\n",
    "    nowcnt = 0\n",
    "    for j in range(len(s)):\n",
    "        if s[i] == s[j]:\n",
    "            nowcnt += 1\n",
    "    if nowcnt > anscnt:\n",
    "        ans = s[i]\n",
    "        anscnt = nowcnt\n",
    "            \n",
    "print(ans)            "
   ]
  },
  {
   "cell_type": "markdown",
   "id": "9b95412a",
   "metadata": {},
   "source": [
    "####  Решение 2 - O(n*k)\n"
   ]
  },
  {
   "cell_type": "code",
   "execution_count": null,
   "id": "e7dde1ce",
   "metadata": {},
   "outputs": [],
   "source": [
    "s = input()\n",
    "ans = ''\n",
    "anscnt = 0 \n",
    "for now in set(s):\n",
    "    nowcnt = 0\n",
    "    for j in range(len(s)):\n",
    "        if now == s[j]:\n",
    "            nowcnt += 1\n",
    "    if nowcnt > anscnt:\n",
    "        ans = now\n",
    "        anscnt = nowcnt\n",
    "            \n",
    "print(ans)            "
   ]
  },
  {
   "cell_type": "markdown",
   "id": "98a508c3",
   "metadata": {},
   "source": [
    "####  Решение 3 - O(n+k)~O(n)\n"
   ]
  },
  {
   "cell_type": "code",
   "execution_count": null,
   "id": "d39505e1",
   "metadata": {},
   "outputs": [],
   "source": [
    "s = input()\n",
    "dcf = {}\n",
    "for now in s:\n",
    "    if now not in dct:\n",
    "        dct[now] = 0\n",
    "    dct[now] += 1\n",
    "for key in dct:\n",
    "    if dct[key] < anscnt:\n",
    "        anscnt = dct[key]\n",
    "    ans = key\n",
    "    \n",
    "print(ans) "
   ]
  },
  {
   "cell_type": "code",
   "execution_count": null,
   "id": "05b9cc85",
   "metadata": {},
   "outputs": [],
   "source": []
  },
  {
   "cell_type": "code",
   "execution_count": null,
   "id": "714894c5",
   "metadata": {},
   "outputs": [],
   "source": []
  },
  {
   "cell_type": "code",
   "execution_count": null,
   "id": "f38643f9",
   "metadata": {},
   "outputs": [],
   "source": []
  }
 ],
 "metadata": {
  "kernelspec": {
   "display_name": "Python 3 (ipykernel)",
   "language": "python",
   "name": "python3"
  },
  "language_info": {
   "codemirror_mode": {
    "name": "ipython",
    "version": 3
   },
   "file_extension": ".py",
   "mimetype": "text/x-python",
   "name": "python",
   "nbconvert_exporter": "python",
   "pygments_lexer": "ipython3",
   "version": "3.9.7"
  }
 },
 "nbformat": 4,
 "nbformat_minor": 5
}
