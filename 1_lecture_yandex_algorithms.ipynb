{
 "cells": [
  {
   "cell_type": "markdown",
   "id": "4f23754c",
   "metadata": {},
   "source": [
    "## Лекция 1 - Сложность, тестирование и особые случаи"
   ]
  },
  {
   "cell_type": "markdown",
   "id": "a05dc0d6",
   "metadata": {},
   "source": [
    "### Задача 1\n",
    "Переберем все позиции и для каждой позиции в строке еще раз переберем все позиции и в случае совпадения прибавим к счетчику единицу. Найдем максимальное значение счетчика."
   ]
  },
  {
   "cell_type": "markdown",
   "id": "4d11d4f5",
   "metadata": {},
   "source": [
    "####  Решение 1 - O(n^2)\n"
   ]
  },
  {
   "cell_type": "code",
   "execution_count": null,
   "id": "507cc47a",
   "metadata": {},
   "outputs": [],
   "source": [
    "s = input()\n",
    "ans = ''\n",
    "anscnt = 0 \n",
    "for i in range(len(s)):\n",
    "    nowcnt = 0\n",
    "    for j in range(len(s)):\n",
    "        if s[i] == s[j]:\n",
    "            nowcnt += 1\n",
    "    if nowcnt > anscnt:\n",
    "        ans = s[i]\n",
    "        anscnt = nowcnt\n",
    "            \n",
    "print(ans)            "
   ]
  },
  {
   "cell_type": "markdown",
   "id": "9b95412a",
   "metadata": {},
   "source": [
    "####  Решение 2 - O(n*k)\n"
   ]
  },
  {
   "cell_type": "code",
   "execution_count": null,
   "id": "e7dde1ce",
   "metadata": {},
   "outputs": [],
   "source": [
    "s = input()\n",
    "ans = ''\n",
    "anscnt = 0 \n",
    "for now in set(s):\n",
    "    nowcnt = 0\n",
    "    for j in range(len(s)):\n",
    "        if now == s[j]:\n",
    "            nowcnt += 1\n",
    "    if nowcnt > anscnt:\n",
    "        ans = now\n",
    "        anscnt = nowcnt\n",
    "            \n",
    "print(ans)            "
   ]
  },
  {
   "cell_type": "markdown",
   "id": "98a508c3",
   "metadata": {},
   "source": [
    "####  Решение 3 - O(n+k)~O(n)\n"
   ]
  },
  {
   "cell_type": "code",
   "execution_count": null,
   "id": "d39505e1",
   "metadata": {},
   "outputs": [],
   "source": [
    "s = input()\n",
    "dcf = {}\n",
    "for now in s:\n",
    "    if now not in dct:\n",
    "        dct[now] = 0\n",
    "    dct[now] += 1\n",
    "for key in dct:\n",
    "    if dct[key] < anscnt:\n",
    "        anscnt = dct[key]\n",
    "    ans = key\n",
    "    \n",
    "print(ans) "
   ]
  },
  {
   "cell_type": "code",
   "execution_count": null,
   "id": "05b9cc85",
   "metadata": {},
   "outputs": [],
   "source": []
  },
  {
   "cell_type": "markdown",
   "id": "58d3dd3e",
   "metadata": {},
   "source": [
    "### Домашнее задание\n",
    "[Link](https://contest.yandex.ru/contest/27393/enter/?retPage=)"
   ]
  },
  {
   "cell_type": "code",
   "execution_count": 10,
   "id": "9aca0ae5",
   "metadata": {},
   "outputs": [
    {
     "name": "stdout",
     "output_type": "stream",
     "text": [
      "444 4\n",
      "акууяу\n",
      "Incorrect mode\n"
     ]
    }
   ],
   "source": [
    "# A - Кондиционер\n",
    "troom, tcond = map(int, input().split())\n",
    "mode = input()\n",
    "if mode == 'heat':\n",
    "    print(max(troom, tcond))\n",
    "elif mode == 'freeze':\n",
    "    print(min(troom, tcond))\n",
    "elif mode == 'auto':\n",
    "    print(tcond)\n",
    "elif mode == 'fan':\n",
    "    print(troom)\n",
    "else:\n",
    "    print('Incorrect mode')"
   ]
  },
  {
   "cell_type": "code",
   "execution_count": 13,
   "id": "14facdb2",
   "metadata": {},
   "outputs": [],
   "source": [
    "# B - Треугольник"
   ]
  },
  {
   "cell_type": "code",
   "execution_count": 83,
   "id": "886a8313",
   "metadata": {},
   "outputs": [
    {
     "name": "stdout",
     "output_type": "stream",
     "text": [
      "3\n",
      "4\n",
      "5\n",
      "YES\n"
     ]
    }
   ],
   "source": [
    "a = int(input())\n",
    "b = int(input())\n",
    "c = int(input())\n",
    "\n",
    "lst = [a,b,c]\n",
    "if all(i == lst[0] for i in lst):\n",
    "    print('YES')\n",
    "elif all([(a + b > c), (b + c > a), (a + c > b)]):\n",
    "    print('YES')\n",
    "else:\n",
    "    print('NO')"
   ]
  },
  {
   "cell_type": "code",
   "execution_count": 14,
   "id": "a23c2e41",
   "metadata": {},
   "outputs": [],
   "source": [
    "# C - Телефонные номера"
   ]
  },
  {
   "cell_type": "code",
   "execution_count": null,
   "id": "4b90935c",
   "metadata": {},
   "outputs": [],
   "source": []
  },
  {
   "cell_type": "code",
   "execution_count": 15,
   "id": "440e429e",
   "metadata": {},
   "outputs": [],
   "source": [
    "# D - Уравнение с корнем"
   ]
  },
  {
   "cell_type": "code",
   "execution_count": null,
   "id": "66b588ef",
   "metadata": {},
   "outputs": [],
   "source": []
  },
  {
   "cell_type": "code",
   "execution_count": 16,
   "id": "b6e01c65",
   "metadata": {},
   "outputs": [],
   "source": [
    "# E - Скорая помощь"
   ]
  },
  {
   "cell_type": "code",
   "execution_count": null,
   "id": "47cfab31",
   "metadata": {},
   "outputs": [],
   "source": []
  },
  {
   "cell_type": "code",
   "execution_count": 17,
   "id": "58a71bf8",
   "metadata": {},
   "outputs": [],
   "source": [
    "# F - Расстановка ноутбуков"
   ]
  },
  {
   "cell_type": "code",
   "execution_count": null,
   "id": "1c330622",
   "metadata": {},
   "outputs": [],
   "source": []
  },
  {
   "cell_type": "code",
   "execution_count": 18,
   "id": "440c6364",
   "metadata": {},
   "outputs": [],
   "source": [
    "# G - Детали"
   ]
  },
  {
   "cell_type": "code",
   "execution_count": null,
   "id": "45407dcb",
   "metadata": {},
   "outputs": [],
   "source": []
  },
  {
   "cell_type": "code",
   "execution_count": 19,
   "id": "738ff6b4",
   "metadata": {},
   "outputs": [],
   "source": [
    "# H - Метро"
   ]
  },
  {
   "cell_type": "code",
   "execution_count": null,
   "id": "5b07bf5c",
   "metadata": {},
   "outputs": [],
   "source": []
  },
  {
   "cell_type": "code",
   "execution_count": 20,
   "id": "f38643f9",
   "metadata": {},
   "outputs": [],
   "source": [
    "# I - Узник замка Иф"
   ]
  },
  {
   "cell_type": "code",
   "execution_count": null,
   "id": "eb284505",
   "metadata": {},
   "outputs": [],
   "source": []
  },
  {
   "cell_type": "code",
   "execution_count": 21,
   "id": "bb0adc4e",
   "metadata": {},
   "outputs": [],
   "source": [
    "# J - Система линейных уравнений - 2"
   ]
  },
  {
   "cell_type": "code",
   "execution_count": null,
   "id": "d6c606f2",
   "metadata": {},
   "outputs": [],
   "source": []
  }
 ],
 "metadata": {
  "kernelspec": {
   "display_name": "Python 3 (ipykernel)",
   "language": "python",
   "name": "python3"
  },
  "language_info": {
   "codemirror_mode": {
    "name": "ipython",
    "version": 3
   },
   "file_extension": ".py",
   "mimetype": "text/x-python",
   "name": "python",
   "nbconvert_exporter": "python",
   "pygments_lexer": "ipython3",
   "version": "3.9.7"
  }
 },
 "nbformat": 4,
 "nbformat_minor": 5
}
