{
 "cells": [
  {
   "cell_type": "markdown",
   "id": "4f23754c",
   "metadata": {},
   "source": [
    "## Лекция 1 - Сложность, тестирование и особые случаи\n",
    "[Link](ttps://youtu.be/QLhqYNsPIVo)"
   ]
  },
  {
   "cell_type": "markdown",
   "id": "a05dc0d6",
   "metadata": {},
   "source": [
    "### Задача 1\n",
    "Переберем все позиции и для каждой позиции в строке еще раз переберем все позиции и в случае совпадения прибавим к счетчику единицу. Найдем максимальное значение счетчика."
   ]
  },
  {
   "cell_type": "markdown",
   "id": "4d11d4f5",
   "metadata": {},
   "source": [
    "####  Решение 1 - O(n^2)\n"
   ]
  },
  {
   "cell_type": "code",
   "execution_count": null,
   "id": "507cc47a",
   "metadata": {},
   "outputs": [],
   "source": [
    "s = input()\n",
    "ans = ''\n",
    "anscnt = 0 \n",
    "for i in range(len(s)):\n",
    "    nowcnt = 0\n",
    "    for j in range(len(s)):\n",
    "        if s[i] == s[j]:\n",
    "            nowcnt += 1\n",
    "    if nowcnt > anscnt:\n",
    "        ans = s[i]\n",
    "        anscnt = nowcnt\n",
    "            \n",
    "print(ans)            "
   ]
  },
  {
   "cell_type": "markdown",
   "id": "9b95412a",
   "metadata": {},
   "source": [
    "####  Решение 2 - O(n*k)\n"
   ]
  },
  {
   "cell_type": "code",
   "execution_count": null,
   "id": "e7dde1ce",
   "metadata": {},
   "outputs": [],
   "source": [
    "s = input()\n",
    "ans = ''\n",
    "anscnt = 0 \n",
    "for now in set(s):\n",
    "    nowcnt = 0\n",
    "    for j in range(len(s)):\n",
    "        if now == s[j]:\n",
    "            nowcnt += 1\n",
    "    if nowcnt > anscnt:\n",
    "        ans = now\n",
    "        anscnt = nowcnt\n",
    "            \n",
    "print(ans)            "
   ]
  },
  {
   "cell_type": "markdown",
   "id": "98a508c3",
   "metadata": {},
   "source": [
    "####  Решение 3 - O(n+k)~O(n)\n"
   ]
  },
  {
   "cell_type": "code",
   "execution_count": null,
   "id": "d39505e1",
   "metadata": {},
   "outputs": [],
   "source": [
    "s = input()\n",
    "dcf = {}\n",
    "for now in s:\n",
    "    if now not in dct:\n",
    "        dct[now] = 0\n",
    "    dct[now] += 1\n",
    "for key in dct:\n",
    "    if dct[key] < anscnt:\n",
    "        anscnt = dct[key]\n",
    "    ans = key\n",
    "    \n",
    "print(ans) "
   ]
  },
  {
   "cell_type": "code",
   "execution_count": null,
   "id": "05b9cc85",
   "metadata": {},
   "outputs": [],
   "source": []
  },
  {
   "cell_type": "markdown",
   "id": "58d3dd3e",
   "metadata": {},
   "source": [
    "### Домашнее задание\n",
    "[Link](https://contest.yandex.ru/contest/27393/enter/?retPage=)"
   ]
  },
  {
   "cell_type": "code",
   "execution_count": 10,
   "id": "9aca0ae5",
   "metadata": {},
   "outputs": [
    {
     "name": "stdout",
     "output_type": "stream",
     "text": [
      "444 4\n",
      "акууяу\n",
      "Incorrect mode\n"
     ]
    }
   ],
   "source": [
    "# A - Кондиционер\n",
    "troom, tcond = map(int, input().split())\n",
    "mode = input()\n",
    "if mode == 'heat':\n",
    "    print(max(troom, tcond))\n",
    "elif mode == 'freeze':\n",
    "    print(min(troom, tcond))\n",
    "elif mode == 'auto':\n",
    "    print(tcond)\n",
    "elif mode == 'fan':\n",
    "    print(troom)\n",
    "else:\n",
    "    print('Incorrect mode')"
   ]
  },
  {
   "cell_type": "code",
   "execution_count": 83,
   "id": "886a8313",
   "metadata": {},
   "outputs": [
    {
     "name": "stdout",
     "output_type": "stream",
     "text": [
      "3\n",
      "4\n",
      "5\n",
      "YES\n"
     ]
    }
   ],
   "source": [
    "# B - Треугольник\n",
    "a = int(input())\n",
    "b = int(input())\n",
    "c = int(input())\n",
    "\n",
    "lst = [a,b,c]\n",
    "if all(i == lst[0] for i in lst):\n",
    "    print('YES')\n",
    "elif all([(a + b > c), (b + c > a), (a + c > b)]):\n",
    "    print('YES')\n",
    "else:\n",
    "    print('NO')"
   ]
  },
  {
   "cell_type": "code",
   "execution_count": 42,
   "id": "bef84c91",
   "metadata": {},
   "outputs": [
    {
     "name": "stdout",
     "output_type": "stream",
     "text": [
      "8(495)430-23-97 +7-4-9-5-43-023-97 4-3-0-2-3-9-7 8-495-430\n",
      "YES\n",
      "YES\n",
      "NO\n"
     ]
    }
   ],
   "source": [
    "# C - Телефонные номера\n",
    "\n",
    "nums = list(map(str,input().strip().split()))[:4]\n",
    "for i in range(len(nums)):\n",
    "    nums[i] = nums[i].replace('-', '').replace('(', '').replace(')', '').replace('+7', '8')\n",
    "    if len(nums[i]) < 11:\n",
    "        nums[i] = '8495' + nums[i]   \n",
    "for i in [i == nums[0] for i in nums[1:]]:\n",
    "    if i == True:\n",
    "        print('YES')\n",
    "    else:\n",
    "        print('NO')"
   ]
  },
  {
   "cell_type": "code",
   "execution_count": 45,
   "id": "1f7ef411",
   "metadata": {},
   "outputs": [
    {
     "name": "stdout",
     "output_type": "stream",
     "text": [
      "8(495)430-23-97\n",
      "+7-4-9-5-43-023-97\n",
      "4-3-0-2-3-9-7\n",
      "8-495-430\n",
      "YES\n",
      "YES\n",
      "NO\n"
     ]
    }
   ],
   "source": [
    "a = str(input())\n",
    "b = str(input())\n",
    "c = str(input())\n",
    "d = str(input())\n",
    "\n",
    "nums = [a,b,c,d]\n",
    "for i in range(len(nums)):\n",
    "    nums[i] = nums[i].replace('-', '').replace('(', '').replace(')', '').replace('+7', '8')\n",
    "    if len(nums[i]) < 11:\n",
    "        nums[i] = '8495' + nums[i]   \n",
    "for i in [i == nums[0] for i in nums[1:]]:\n",
    "    if i == True:\n",
    "        print('YES')\n",
    "    else:\n",
    "        print('NO')"
   ]
  },
  {
   "cell_type": "code",
   "execution_count": 47,
   "id": "440e429e",
   "metadata": {},
   "outputs": [
    {
     "name": "stdout",
     "output_type": "stream",
     "text": [
      "1\n",
      "1\n",
      "1\n",
      "0\n"
     ]
    }
   ],
   "source": [
    "# D - Уравнение с корнем\n",
    "a = int(input())\n",
    "b = int(input())\n",
    "c = int(input())\n",
    "\n",
    "if any([(c < 0),(a == 0 and c**2-b != 0)]):\n",
    "    print('NO SOLUTION')\n",
    "elif all([(a == 0),(c**2 == b)]):\n",
    "    print('MANY SOLUTIONS')\n",
    "else:\n",
    "    print((c**2-b)//a)"
   ]
  },
  {
   "cell_type": "markdown",
   "id": "d2d49f7d",
   "metadata": {},
   "source": [
    "[Link](https://contest.yandex.ru/contest/28730)"
   ]
  },
  {
   "cell_type": "code",
   "execution_count": 109,
   "id": "7d89b77f",
   "metadata": {},
   "outputs": [],
   "source": [
    "# A. Interactor"
   ]
  },
  {
   "cell_type": "code",
   "execution_count": 177,
   "id": "7dbe0451",
   "metadata": {},
   "outputs": [
    {
     "name": "stdout",
     "output_type": "stream",
     "text": [
      "0\n",
      "0\n",
      "0\n",
      "0\n"
     ]
    }
   ],
   "source": [
    "r = int(input()) # код завершения задачи\n",
    "i = int(input()) # вердикт интерактора\n",
    "c = int(input()) # вердикт чекера\n",
    "\n",
    "if i == 1:\n",
    "    out = c\n",
    "elif i == 7:\n",
    "    out = 1\n",
    "elif all([i == 4, r != 0]) or all([i == 0, r != 0]) or i == 6:\n",
    "    out = 3\n",
    "    \n",
    "elif all([i != 0, r == 0]) or i != 6:\n",
    "    out = i\n",
    "else:\n",
    "    out = 4\n",
    "print(out)"
   ]
  },
  {
   "cell_type": "code",
   "execution_count": null,
   "id": "33021888",
   "metadata": {},
   "outputs": [],
   "source": [
    "if i == 7:\n",
    "    out = 1\n",
    "elif i == 6:\n",
    "    out = 0\n",
    "elif i == 1:\n",
    "    out = c\n",
    "elif all([i == 0, r != 0]) or all([i == 4, r != 0]):\n",
    "    out = 3\n",
    "elif all([i != 4, r == 0]):\n",
    "    out = i\n",
    "else:\n",
    "    out = 4\n"
   ]
  },
  {
   "cell_type": "code",
   "execution_count": 170,
   "id": "70f9710a",
   "metadata": {},
   "outputs": [],
   "source": [
    "# B. Кольцевая линия метро"
   ]
  },
  {
   "cell_type": "code",
   "execution_count": null,
   "id": "06182992",
   "metadata": {},
   "outputs": [],
   "source": [
    "N, i, j = map(int, input().split())\n",
    "if i < j:\n",
    "    m = abs(j - N) - 1 + i\n",
    "else:\n",
    "    m = abs(i - N) - 1 + j\n",
    "k = abs(i - j) - 1\n",
    "print(min(k,m))"
   ]
  },
  {
   "cell_type": "code",
   "execution_count": 111,
   "id": "9027030c",
   "metadata": {},
   "outputs": [],
   "source": [
    "# C. Даты"
   ]
  },
  {
   "cell_type": "code",
   "execution_count": 21,
   "id": "3898e000",
   "metadata": {},
   "outputs": [
    {
     "name": "stdout",
     "output_type": "stream",
     "text": [
      "1 1 2000\n",
      "1\n"
     ]
    }
   ],
   "source": [
    "x, y, z = map(int, input().split())\n",
    "if x == y:\n",
    "    print(1)\n",
    "elif x <= 12 and y <= 12:\n",
    "    print(0)\n",
    "else:\n",
    "    print(1)"
   ]
  },
  {
   "cell_type": "code",
   "execution_count": 112,
   "id": "ae30e43a",
   "metadata": {},
   "outputs": [],
   "source": [
    "# D. Строительство школы"
   ]
  },
  {
   "cell_type": "code",
   "execution_count": 25,
   "id": "f4dfc613",
   "metadata": {},
   "outputs": [
    {
     "name": "stdout",
     "output_type": "stream",
     "text": [
      "4\n",
      "1 2 3 4\n",
      "3\n"
     ]
    }
   ],
   "source": [
    "n = int(input())\n",
    "coord = list(map(int, input().split()))\n",
    "print(coord[len(coord) // 2])"
   ]
  },
  {
   "cell_type": "code",
   "execution_count": null,
   "id": "b23c30c0",
   "metadata": {},
   "outputs": [],
   "source": [
    "# E. Точка и треугольник"
   ]
  },
  {
   "cell_type": "code",
   "execution_count": null,
   "id": "c00cec38",
   "metadata": {},
   "outputs": [],
   "source": []
  }
 ],
 "metadata": {
  "kernelspec": {
   "display_name": "Python 3 (ipykernel)",
   "language": "python",
   "name": "python3"
  },
  "language_info": {
   "codemirror_mode": {
    "name": "ipython",
    "version": 3
   },
   "file_extension": ".py",
   "mimetype": "text/x-python",
   "name": "python",
   "nbconvert_exporter": "python",
   "pygments_lexer": "ipython3",
   "version": "3.9.7"
  }
 },
 "nbformat": 4,
 "nbformat_minor": 5
}
