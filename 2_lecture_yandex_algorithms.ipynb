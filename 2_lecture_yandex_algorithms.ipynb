{
 "cells": [
  {
   "cell_type": "markdown",
   "id": "02c4212d",
   "metadata": {},
   "source": [
    "## Лекция 2 - Линейный поиск\n",
    "[Link](https://youtu.be/SKwB41FrGgU)"
   ]
  },
  {
   "cell_type": "markdown",
   "id": "37296d9b",
   "metadata": {},
   "source": [
    "### Задача 1\n",
    "Найти первое(левое) вхождение положительного числа X в нее или вывести -1, если число X не встречалось."
   ]
  },
  {
   "cell_type": "code",
   "execution_count": 1,
   "id": "d7c9efab",
   "metadata": {},
   "outputs": [],
   "source": [
    "def findx(seq, x):\n",
    "    ans = -1\n",
    "    for i in range(len(seq)):\n",
    "        if ans == -1 and seq[i] == x:\n",
    "            ans = i\n",
    "    return ans"
   ]
  },
  {
   "cell_type": "code",
   "execution_count": 4,
   "id": "186e0747",
   "metadata": {},
   "outputs": [
    {
     "data": {
      "text/plain": [
       "2"
      ]
     },
     "execution_count": 4,
     "metadata": {},
     "output_type": "execute_result"
    }
   ],
   "source": [
    "findx([4,5,3,2,1,4,6,6], 3)"
   ]
  },
  {
   "cell_type": "markdown",
   "id": "ecf778f5",
   "metadata": {},
   "source": [
    "### Задача 2\n",
    "Найти первое(правое) вхождение положительного числа X в нее или вывести -1, если число X не встречалось."
   ]
  },
  {
   "cell_type": "code",
   "execution_count": 5,
   "id": "881433d7",
   "metadata": {},
   "outputs": [],
   "source": [
    "def findright(seq, x):\n",
    "    ans = -1\n",
    "    for i in range(len(seq)):\n",
    "        if seq[i] == x:\n",
    "            ans = i\n",
    "    return ans"
   ]
  },
  {
   "cell_type": "code",
   "execution_count": 6,
   "id": "de40d407",
   "metadata": {},
   "outputs": [
    {
     "data": {
      "text/plain": [
       "2"
      ]
     },
     "execution_count": 6,
     "metadata": {},
     "output_type": "execute_result"
    }
   ],
   "source": [
    "findright([4,5,3,2,1,4,6,6], 3)"
   ]
  },
  {
   "cell_type": "markdown",
   "id": "8b8ea85a",
   "metadata": {},
   "source": [
    "### Задача 3\n",
    "Дана последовательность числе длиной N (N>0). <br/>\n",
    "Найти максимальное число в последовательности."
   ]
  },
  {
   "cell_type": "code",
   "execution_count": 7,
   "id": "ec2fb8e5",
   "metadata": {},
   "outputs": [],
   "source": [
    "def findmax(seq):\n",
    "    ans = seq[0]\n",
    "    for i in range(len(seq)):\n",
    "        if seq[i] > ans:\n",
    "            ans = seq[i]\n",
    "    return ans        \n",
    "    "
   ]
  },
  {
   "cell_type": "code",
   "execution_count": 9,
   "id": "bd78b9ef",
   "metadata": {},
   "outputs": [
    {
     "data": {
      "text/plain": [
       "6"
      ]
     },
     "execution_count": 9,
     "metadata": {},
     "output_type": "execute_result"
    }
   ],
   "source": [
    "findmax([4,5,3,2,1,4,6,6])"
   ]
  },
  {
   "cell_type": "markdown",
   "id": "3d599498",
   "metadata": {},
   "source": [
    "### Задача 4\n",
    "Дана последовательность числе длиной N (N>0). <br/>\n",
    "Найти максимальное число в последовательности и второе по величине число(такое, которое будет максимальным, если вычеркнуть из последовательности одно максимальное число)."
   ]
  },
  {
   "cell_type": "code",
   "execution_count": 2,
   "id": "c925f84b",
   "metadata": {},
   "outputs": [],
   "source": [
    "def findmax2(seq):\n",
    "    max1 = max(seq[0], seq[1])\n",
    "    max2 = min(seq[0], seq[1])\n",
    "    for i in range(len(seq)):\n",
    "        if seq[i] > max1:\n",
    "            max2 = max1\n",
    "            max1 = seq[i]\n",
    "        elif seq[i] > max2:\n",
    "            max2 = seq[i]\n",
    "    return(max1, max2)"
   ]
  },
  {
   "cell_type": "code",
   "execution_count": 4,
   "id": "24957d14",
   "metadata": {},
   "outputs": [
    {
     "data": {
      "text/plain": [
       "(87, 6)"
      ]
     },
     "execution_count": 4,
     "metadata": {},
     "output_type": "execute_result"
    }
   ],
   "source": [
    "findmax2([4,5,3,2,1,4,87,6])"
   ]
  },
  {
   "cell_type": "markdown",
   "id": "c33be261",
   "metadata": {},
   "source": [
    "### Задача 5\n",
    "Дана последовательность числе длиной N (N>0). <br/>\n",
    "Найти минимальное четное число в последовательности или вывести -1, если такого не существует."
   ]
  },
  {
   "cell_type": "code",
   "execution_count": 5,
   "id": "e44b6445",
   "metadata": {},
   "outputs": [],
   "source": [
    "def findmineven(seq):\n",
    "    ans = -1\n",
    "    for i in range(len(seq)):\n",
    "        if seq[i] % 2 == 0 and (ans == -1 or seq[i] < ans):\n",
    "            ans = seq[i]\n",
    "    return ans"
   ]
  },
  {
   "cell_type": "code",
   "execution_count": 6,
   "id": "1c78a098",
   "metadata": {},
   "outputs": [
    {
     "data": {
      "text/plain": [
       "2"
      ]
     },
     "execution_count": 6,
     "metadata": {},
     "output_type": "execute_result"
    }
   ],
   "source": [
    "findmineven([4,5,3,2,1,4,87,6])"
   ]
  },
  {
   "cell_type": "markdown",
   "id": "c1784065",
   "metadata": {},
   "source": [
    "### Задача 6\n",
    "Дана последовательность слов. <br/>\n",
    "Вывести все самые короткие слова через пробел."
   ]
  },
  {
   "cell_type": "code",
   "execution_count": 7,
   "id": "d35c1f0b",
   "metadata": {},
   "outputs": [],
   "source": [
    "def shortwords(words):\n",
    "    minlen = len(words[0])\n",
    "    for word in words:\n",
    "        if len(word) < minlen:\n",
    "            minlen = len(words)\n",
    "    ans =[]\n",
    "    for word in words:\n",
    "        if len(word) == minlen:\n",
    "            ans.append(word)\n",
    "    return ' '.join(ans)"
   ]
  },
  {
   "cell_type": "code",
   "execution_count": 8,
   "id": "640de158",
   "metadata": {},
   "outputs": [
    {
     "data": {
      "text/plain": [
       "'fyi hyu ert'"
      ]
     },
     "execution_count": 8,
     "metadata": {},
     "output_type": "execute_result"
    }
   ],
   "source": [
    "shortwords(['fyi', 'hyu','rspv','ert','salo'])"
   ]
  },
  {
   "cell_type": "markdown",
   "id": "14baa8d3",
   "metadata": {},
   "source": [
    "### Задача 7\n",
    "Игра PitCraft происходит в двумерном мире, который состоит из блоков размром 1 на 1 метр. Остров игрока представляет собой набор столбцов различной высоты, состоящих из блоков камня и окруженный морем. Над островом прошел сильный дождь, который заоплнил водой все низины, а не поместившаяся в них вода стекла в море, не увеличив его уровень. <br/>\n",
    "По ландшафту острова определеите, сколько блоков воды осталось после дождя в низиках на острове."
   ]
  },
  {
   "cell_type": "code",
   "execution_count": 9,
   "id": "442b04d3",
   "metadata": {},
   "outputs": [],
   "source": [
    "def isleflood(h):\n",
    "    maxpos = 0\n",
    "    for i in range(len(h)):\n",
    "        if h[i] > h[maxpos]:\n",
    "            maxpos = i\n",
    "    ans = 0\n",
    "    nowm = 0\n",
    "    for i in range(maxpos):\n",
    "        if h[i] > nomw:\n",
    "            nowm = h[i]\n",
    "        ans += nowm - h[i]\n",
    "    nowm = 0\n",
    "    for i in range(len(h)-1, maxpos, -1):\n",
    "        if h[i] > nowm:\n",
    "            nowm = h[i]\n",
    "        ans += nowm - h[i]\n",
    "    return ans"
   ]
  },
  {
   "cell_type": "code",
   "execution_count": null,
   "id": "0784dd2e",
   "metadata": {},
   "outputs": [],
   "source": []
  },
  {
   "cell_type": "markdown",
   "id": "3aebb9d2",
   "metadata": {},
   "source": [
    "### Задача 8 RLE\n",
    "Дана строка(возможно пустая), состоящая из букв A-Z. <br/>\n",
    "AAAABBBBDDDDCCCCXYZRRRDDDDDSAAAABBB <br/>\n",
    "Нужно написать функцию RLE, которая на выходе даст строку вида: A4B4D4C4XYZ. И сгенерирует ошибку, если на вход пришла невалидная строка. <br/>\n",
    "Пояснения: Если символ встречается 1 раз, он остается без изменений. Есои символ повторяется более 1 раза, к нему добавляется количество повторений."
   ]
  },
  {
   "cell_type": "code",
   "execution_count": 15,
   "id": "c1aaa4fa",
   "metadata": {},
   "outputs": [],
   "source": [
    "def unique(s):\n",
    "    lastsym = s[0]\n",
    "    ans = []\n",
    "    for i in range(len(s)):\n",
    "        if s[i] != lastsym:\n",
    "            ans.append(lastsym)\n",
    "            lastsym = s[i]\n",
    "    ans.append(lastsym)\n",
    "    return ''.join(ans)"
   ]
  },
  {
   "cell_type": "code",
   "execution_count": 16,
   "id": "fa87d1e4",
   "metadata": {},
   "outputs": [
    {
     "data": {
      "text/plain": [
       "'ABDCXYZRDSAB'"
      ]
     },
     "execution_count": 16,
     "metadata": {},
     "output_type": "execute_result"
    }
   ],
   "source": [
    "unique('AAAABBBBDDDDCCCCXYZRRRDDDDDSAAAABBB')"
   ]
  },
  {
   "cell_type": "code",
   "execution_count": 12,
   "id": "a57eb0b0",
   "metadata": {},
   "outputs": [],
   "source": [
    "def rle(s):\n",
    "    def pack(s, cnt):\n",
    "        if cnt > 1:\n",
    "            return s + str(cnt)\n",
    "        return s\n",
    "    \n",
    "    lastsym = s[0]\n",
    "    lastpos = 0\n",
    "    ans = []\n",
    "    for i in range(len(s)):\n",
    "        if s[i] != lastsym:\n",
    "            ans.append(pack(lastsym, i - lastpos))\n",
    "            lastpos = i\n",
    "            lastsym = s[i]\n",
    "    ans.append(pack(s[lastpos], len(s) - lastpos))\n",
    "    return ''.join(ans)"
   ]
  },
  {
   "cell_type": "code",
   "execution_count": 13,
   "id": "91600d8a",
   "metadata": {},
   "outputs": [
    {
     "data": {
      "text/plain": [
       "'A4B4D4C4XYZR3D5SA4B3'"
      ]
     },
     "execution_count": 13,
     "metadata": {},
     "output_type": "execute_result"
    }
   ],
   "source": [
    "rle('AAAABBBBDDDDCCCCXYZRRRDDDDDSAAAABBB')"
   ]
  },
  {
   "cell_type": "markdown",
   "id": "1fe4e15a",
   "metadata": {},
   "source": [
    "### Домашнее задание\n",
    "[Link](https://contest.yandex.ru/contest/28738)"
   ]
  },
  {
   "cell_type": "code",
   "execution_count": 1,
   "id": "a3c1c410",
   "metadata": {},
   "outputs": [],
   "source": [
    "# A. Количество равных максимальному"
   ]
  },
  {
   "cell_type": "code",
   "execution_count": null,
   "id": "72023f00",
   "metadata": {},
   "outputs": [],
   "source": []
  },
  {
   "cell_type": "code",
   "execution_count": null,
   "id": "df780af7",
   "metadata": {},
   "outputs": [],
   "source": [
    "# B. Дома и магазины"
   ]
  },
  {
   "cell_type": "code",
   "execution_count": null,
   "id": "676c09d6",
   "metadata": {},
   "outputs": [],
   "source": []
  },
  {
   "cell_type": "code",
   "execution_count": 2,
   "id": "4712eadd",
   "metadata": {},
   "outputs": [],
   "source": [
    "# C. Изготовление палиндромов"
   ]
  },
  {
   "cell_type": "code",
   "execution_count": null,
   "id": "27d76abb",
   "metadata": {},
   "outputs": [],
   "source": []
  },
  {
   "cell_type": "code",
   "execution_count": 3,
   "id": "dbd3bbdb",
   "metadata": {},
   "outputs": [],
   "source": [
    "# D. Лавочки в атриуме"
   ]
  },
  {
   "cell_type": "code",
   "execution_count": null,
   "id": "d06cc325",
   "metadata": {},
   "outputs": [],
   "source": []
  },
  {
   "cell_type": "code",
   "execution_count": null,
   "id": "91c7c079",
   "metadata": {},
   "outputs": [],
   "source": [
    "# E. Дипломы в папках"
   ]
  },
  {
   "cell_type": "code",
   "execution_count": null,
   "id": "0b611a76",
   "metadata": {},
   "outputs": [],
   "source": []
  },
  {
   "cell_type": "code",
   "execution_count": null,
   "id": "15c9b933",
   "metadata": {},
   "outputs": [],
   "source": []
  }
 ],
 "metadata": {
  "kernelspec": {
   "display_name": "Python 3 (ipykernel)",
   "language": "python",
   "name": "python3"
  },
  "language_info": {
   "codemirror_mode": {
    "name": "ipython",
    "version": 3
   },
   "file_extension": ".py",
   "mimetype": "text/x-python",
   "name": "python",
   "nbconvert_exporter": "python",
   "pygments_lexer": "ipython3",
   "version": "3.9.7"
  }
 },
 "nbformat": 4,
 "nbformat_minor": 5
}
