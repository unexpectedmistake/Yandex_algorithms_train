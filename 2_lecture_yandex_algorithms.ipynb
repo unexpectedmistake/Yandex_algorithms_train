{
 "cells": [
  {
   "cell_type": "markdown",
   "id": "02c4212d",
   "metadata": {},
   "source": [
    "## Лекция 2 - Линейный поиск\n",
    "[Link](https://youtu.be/SKwB41FrGgU)"
   ]
  },
  {
   "cell_type": "markdown",
   "id": "37296d9b",
   "metadata": {},
   "source": [
    "### Задача 1\n",
    "Найти первое(левое) вхождение положительного числа X в нее или вывести -1, если число X не встречалось."
   ]
  },
  {
   "cell_type": "code",
   "execution_count": 1,
   "id": "d7c9efab",
   "metadata": {
    "ExecuteTime": {
     "end_time": "2022-05-27T07:13:35.571761Z",
     "start_time": "2022-05-27T07:13:35.555875Z"
    }
   },
   "outputs": [],
   "source": [
    "def findx(seq, x):\n",
    "    ans = -1\n",
    "    for i in range(len(seq)):\n",
    "        if ans == -1 and seq[i] == x:\n",
    "            ans = i\n",
    "    return ans"
   ]
  },
  {
   "cell_type": "code",
   "execution_count": 2,
   "id": "186e0747",
   "metadata": {
    "ExecuteTime": {
     "end_time": "2022-05-27T07:13:36.479933Z",
     "start_time": "2022-05-27T07:13:36.465009Z"
    }
   },
   "outputs": [
    {
     "data": {
      "text/plain": [
       "2"
      ]
     },
     "execution_count": 2,
     "metadata": {},
     "output_type": "execute_result"
    }
   ],
   "source": [
    "findx([4,5,3,2,1,4,6,6], 3)"
   ]
  },
  {
   "cell_type": "markdown",
   "id": "ecf778f5",
   "metadata": {},
   "source": [
    "### Задача 2\n",
    "Найти первое(правое) вхождение положительного числа X в нее или вывести -1, если число X не встречалось."
   ]
  },
  {
   "cell_type": "code",
   "execution_count": 10,
   "id": "881433d7",
   "metadata": {},
   "outputs": [],
   "source": [
    "def findright(seq, x):\n",
    "    ans = -1\n",
    "    for i in range(len(seq)):\n",
    "        if seq[i] == x:\n",
    "            ans = i\n",
    "    return ans"
   ]
  },
  {
   "cell_type": "code",
   "execution_count": 11,
   "id": "de40d407",
   "metadata": {},
   "outputs": [
    {
     "data": {
      "text/plain": [
       "7"
      ]
     },
     "execution_count": 11,
     "metadata": {},
     "output_type": "execute_result"
    }
   ],
   "source": [
    "findright([4,5,3,2,1,4,6,6], 6)"
   ]
  },
  {
   "cell_type": "markdown",
   "id": "8b8ea85a",
   "metadata": {},
   "source": [
    "### Задача 3\n",
    "Дана последовательность числе длиной N (N>0). <br/>\n",
    "Найти максимальное число в последовательности."
   ]
  },
  {
   "cell_type": "code",
   "execution_count": 3,
   "id": "ec2fb8e5",
   "metadata": {
    "ExecuteTime": {
     "end_time": "2022-05-27T07:13:40.075940Z",
     "start_time": "2022-05-27T07:13:40.070922Z"
    }
   },
   "outputs": [],
   "source": [
    "def findmax(seq):\n",
    "    ans = seq[0]\n",
    "    for i in range(len(seq)):\n",
    "        if seq[i] > ans:\n",
    "            ans = seq[i]\n",
    "    return ans        \n",
    "    "
   ]
  },
  {
   "cell_type": "code",
   "execution_count": 4,
   "id": "bd78b9ef",
   "metadata": {
    "ExecuteTime": {
     "end_time": "2022-05-27T07:13:40.597407Z",
     "start_time": "2022-05-27T07:13:40.592141Z"
    }
   },
   "outputs": [
    {
     "data": {
      "text/plain": [
       "6"
      ]
     },
     "execution_count": 4,
     "metadata": {},
     "output_type": "execute_result"
    }
   ],
   "source": [
    "findmax([4,5,3,2,1,4,6,6])"
   ]
  },
  {
   "cell_type": "markdown",
   "id": "11add6e0",
   "metadata": {},
   "source": [
    "Также можем проходиться по индексам - нужно чтобы не копировать объекты (но обращение по индексу занимает больше времени)"
   ]
  },
  {
   "cell_type": "code",
   "execution_count": 5,
   "id": "b16323da",
   "metadata": {
    "ExecuteTime": {
     "end_time": "2022-05-27T07:13:43.073276Z",
     "start_time": "2022-05-27T07:13:43.066821Z"
    }
   },
   "outputs": [],
   "source": [
    "def findmax(seq):\n",
    "    ans = 0\n",
    "    for i in range(1, len(seq)):\n",
    "        if seq[i] > seq[ans]:\n",
    "            ans = i\n",
    "    return seq[ans]"
   ]
  },
  {
   "cell_type": "code",
   "execution_count": 6,
   "id": "320cb6a8",
   "metadata": {
    "ExecuteTime": {
     "end_time": "2022-05-27T07:13:43.466893Z",
     "start_time": "2022-05-27T07:13:43.455387Z"
    }
   },
   "outputs": [
    {
     "data": {
      "text/plain": [
       "6"
      ]
     },
     "execution_count": 6,
     "metadata": {},
     "output_type": "execute_result"
    }
   ],
   "source": [
    "findmax([4,5,3,2,1,4,6,6])"
   ]
  },
  {
   "cell_type": "markdown",
   "id": "3d599498",
   "metadata": {},
   "source": [
    "### Задача 4\n",
    "Дана последовательность числе длиной N (N>0). <br/>\n",
    "Найти максимальное число в последовательности и второе по величине число(такое, которое будет максимальным, если вычеркнуть из последовательности одно максимальное число)."
   ]
  },
  {
   "cell_type": "code",
   "execution_count": 2,
   "id": "c925f84b",
   "metadata": {},
   "outputs": [],
   "source": [
    "def findmax2(seq):\n",
    "    max1 = max(seq[0], seq[1])\n",
    "    max2 = min(seq[0], seq[1])\n",
    "    for i in range(len(seq)):\n",
    "        if seq[i] > max1:\n",
    "            max2 = max1\n",
    "            max1 = seq[i]\n",
    "        elif seq[i] > max2:\n",
    "            max2 = seq[i]\n",
    "    return(max1, max2)"
   ]
  },
  {
   "cell_type": "code",
   "execution_count": 4,
   "id": "24957d14",
   "metadata": {},
   "outputs": [
    {
     "data": {
      "text/plain": [
       "(87, 6)"
      ]
     },
     "execution_count": 4,
     "metadata": {},
     "output_type": "execute_result"
    }
   ],
   "source": [
    "findmax2([4,5,3,2,1,4,87,6])"
   ]
  },
  {
   "cell_type": "markdown",
   "id": "c33be261",
   "metadata": {},
   "source": [
    "### Задача 5\n",
    "Дана последовательность числе длиной N (N>0). <br/>\n",
    "Найти минимальное четное число в последовательности или вывести -1, если такого не существует."
   ]
  },
  {
   "cell_type": "code",
   "execution_count": 5,
   "id": "e44b6445",
   "metadata": {},
   "outputs": [],
   "source": [
    "def findmineven(seq):\n",
    "    ans = -1\n",
    "    for i in range(len(seq)):\n",
    "        if seq[i] % 2 == 0 and (ans == -1 or seq[i] < ans):\n",
    "            ans = seq[i]\n",
    "    return ans"
   ]
  },
  {
   "cell_type": "code",
   "execution_count": 6,
   "id": "1c78a098",
   "metadata": {},
   "outputs": [
    {
     "data": {
      "text/plain": [
       "2"
      ]
     },
     "execution_count": 6,
     "metadata": {},
     "output_type": "execute_result"
    }
   ],
   "source": [
    "findmineven([4,5,3,2,1,4,87,6])"
   ]
  },
  {
   "cell_type": "code",
   "execution_count": 7,
   "id": "76331ae4",
   "metadata": {
    "ExecuteTime": {
     "end_time": "2022-05-27T08:01:05.158751Z",
     "start_time": "2022-05-27T08:01:05.148506Z"
    }
   },
   "outputs": [],
   "source": [
    "def findmaxeven(seq):\n",
    "    ans = -1\n",
    "    for i in range(len(seq)):\n",
    "        if seq[i] % 2 == 0 and (ans == -1 or seq[i] > ans):\n",
    "            ans = seq[i]\n",
    "    return ans"
   ]
  },
  {
   "cell_type": "code",
   "execution_count": 9,
   "id": "25dd6682",
   "metadata": {
    "ExecuteTime": {
     "end_time": "2022-05-27T08:01:15.263456Z",
     "start_time": "2022-05-27T08:01:15.246673Z"
    }
   },
   "outputs": [
    {
     "data": {
      "text/plain": [
       "10"
      ]
     },
     "execution_count": 9,
     "metadata": {},
     "output_type": "execute_result"
    }
   ],
   "source": [
    "findmaxeven([4,5,3,2,1,4,10,6])"
   ]
  },
  {
   "cell_type": "markdown",
   "id": "c1784065",
   "metadata": {},
   "source": [
    "### Задача 6\n",
    "Дана последовательность слов. <br/>\n",
    "Вывести все самые короткие слова через пробел."
   ]
  },
  {
   "cell_type": "code",
   "execution_count": 7,
   "id": "d35c1f0b",
   "metadata": {},
   "outputs": [],
   "source": [
    "def shortwords(words):\n",
    "    minlen = len(words[0])\n",
    "    for word in words:\n",
    "        if len(word) < minlen:\n",
    "            minlen = len(words)\n",
    "    ans = []\n",
    "    for word in words:\n",
    "        if len(word) == minlen:\n",
    "            ans.append(word)\n",
    "    return ' '.join(ans)"
   ]
  },
  {
   "cell_type": "code",
   "execution_count": 8,
   "id": "640de158",
   "metadata": {},
   "outputs": [
    {
     "data": {
      "text/plain": [
       "'fyi hyu ert'"
      ]
     },
     "execution_count": 8,
     "metadata": {},
     "output_type": "execute_result"
    }
   ],
   "source": [
    "shortwords(['fyi', 'hyu','rspv','ert','salo'])"
   ]
  },
  {
   "cell_type": "markdown",
   "id": "14baa8d3",
   "metadata": {},
   "source": [
    "### Задача 7\n",
    "Игра PitCraft происходит в двумерном мире, который состоит из блоков размром 1 на 1 метр. Остров игрока представляет собой набор столбцов различной высоты, состоящих из блоков камня и окруженный морем. Над островом прошел сильный дождь, который заоплнил водой все низины, а не поместившаяся в них вода стекла в море, не увеличив его уровень. <br/>\n",
    "По ландшафту острова определеите, сколько блоков воды осталось после дождя в низиках на острове."
   ]
  },
  {
   "cell_type": "code",
   "execution_count": 54,
   "id": "442b04d3",
   "metadata": {
    "ExecuteTime": {
     "end_time": "2022-05-27T09:14:45.168245Z",
     "start_time": "2022-05-27T09:14:45.158276Z"
    }
   },
   "outputs": [],
   "source": [
    "def isleflood(h):\n",
    "    maxpos = 0\n",
    "    for i in range(len(h)):\n",
    "        if h[i] > h[maxpos]:\n",
    "            maxpos = i\n",
    "    ans = 0\n",
    "    nowm = 0\n",
    "    for i in range(maxpos):\n",
    "        if h[i] > nowm:\n",
    "            nowm = h[i]\n",
    "        ans += nowm - h[i]\n",
    "    nowm = 0\n",
    "    for i in range(len(h)-1, maxpos, -1):\n",
    "        if h[i] > nowm:\n",
    "            nowm = h[i]\n",
    "        ans += nowm - h[i]\n",
    "    return ans"
   ]
  },
  {
   "cell_type": "code",
   "execution_count": 56,
   "id": "0784dd2e",
   "metadata": {
    "ExecuteTime": {
     "end_time": "2022-05-27T09:14:58.764571Z",
     "start_time": "2022-05-27T09:14:58.757563Z"
    }
   },
   "outputs": [
    {
     "data": {
      "text/plain": [
       "12"
      ]
     },
     "execution_count": 56,
     "metadata": {},
     "output_type": "execute_result"
    }
   ],
   "source": [
    "isleflood([4,3,5,6,7,2,1,4,6])"
   ]
  },
  {
   "cell_type": "markdown",
   "id": "3aebb9d2",
   "metadata": {},
   "source": [
    "### Задача 8 RLE\n",
    "Дана строка(возможно пустая), состоящая из букв A-Z. <br/>\n",
    "AAAABBBBDDDDCCCCXYZRRRDDDDDSAAAABBB <br/>\n",
    "Нужно написать функцию RLE, которая на выходе даст строку вида: A4B4D4C4XYZ. И сгенерирует ошибку, если на вход пришла невалидная строка. <br/>\n",
    "Пояснения: Если символ встречается 1 раз, он остается без изменений. Есои символ повторяется более 1 раза, к нему добавляется количество повторений."
   ]
  },
  {
   "cell_type": "code",
   "execution_count": 15,
   "id": "c1aaa4fa",
   "metadata": {},
   "outputs": [],
   "source": [
    "def unique(s):\n",
    "    lastsym = s[0]\n",
    "    ans = []\n",
    "    for i in range(len(s)):\n",
    "        if s[i] != lastsym:\n",
    "            ans.append(lastsym)\n",
    "            lastsym = s[i]\n",
    "    ans.append(lastsym)\n",
    "    return ''.join(ans)"
   ]
  },
  {
   "cell_type": "code",
   "execution_count": 16,
   "id": "fa87d1e4",
   "metadata": {},
   "outputs": [
    {
     "data": {
      "text/plain": [
       "'ABDCXYZRDSAB'"
      ]
     },
     "execution_count": 16,
     "metadata": {},
     "output_type": "execute_result"
    }
   ],
   "source": [
    "unique('AAAABBBBDDDDCCCCXYZRRRDDDDDSAAAABBB')"
   ]
  },
  {
   "cell_type": "code",
   "execution_count": 59,
   "id": "a57eb0b0",
   "metadata": {
    "ExecuteTime": {
     "end_time": "2022-05-27T09:22:07.116927Z",
     "start_time": "2022-05-27T09:22:07.096898Z"
    }
   },
   "outputs": [],
   "source": [
    "def rle(s):\n",
    "    def pack(s, cnt):\n",
    "        if cnt > 1:\n",
    "            return s + str(cnt)\n",
    "        return s\n",
    "    \n",
    "    lastsym = s[0]\n",
    "    lastpos = 0\n",
    "    ans = []\n",
    "    for i in range(len(s)):\n",
    "        if s[i] != lastsym:\n",
    "            ans.append(pack(lastsym, i - lastpos))\n",
    "            lastpos = i\n",
    "            lastsym = s[i]\n",
    "    ans.append(pack(s[lastpos], len(s) - lastpos))\n",
    "    return ''.join(ans)"
   ]
  },
  {
   "cell_type": "code",
   "execution_count": 60,
   "id": "91600d8a",
   "metadata": {
    "ExecuteTime": {
     "end_time": "2022-05-27T09:22:07.298100Z",
     "start_time": "2022-05-27T09:22:07.284365Z"
    }
   },
   "outputs": [
    {
     "data": {
      "text/plain": [
       "'A4B4D4C4XYZR3D5SA4B3'"
      ]
     },
     "execution_count": 60,
     "metadata": {},
     "output_type": "execute_result"
    }
   ],
   "source": [
    "rle('AAAABBBBDDDDCCCCXYZRRRDDDDDSAAAABBB')"
   ]
  },
  {
   "cell_type": "markdown",
   "id": "1fe4e15a",
   "metadata": {},
   "source": [
    "### Домашнее задание\n",
    "[Link](https://contest.yandex.ru/contest/28738)"
   ]
  },
  {
   "cell_type": "code",
   "execution_count": 1,
   "id": "a3c1c410",
   "metadata": {},
   "outputs": [],
   "source": [
    "# A. Количество равных максимальному"
   ]
  },
  {
   "cell_type": "code",
   "execution_count": 93,
   "id": "8d7baf07",
   "metadata": {
    "ExecuteTime": {
     "end_time": "2022-05-27T10:00:25.661214Z",
     "start_time": "2022-05-27T10:00:21.883529Z"
    }
   },
   "outputs": [
    {
     "name": "stdout",
     "output_type": "stream",
     "text": [
      "5\n",
      "5\n",
      "5\n",
      "5\n",
      "0\n"
     ]
    },
    {
     "data": {
      "text/plain": [
       "4"
      ]
     },
     "execution_count": 93,
     "metadata": {},
     "output_type": "execute_result"
    }
   ],
   "source": [
    "inpt = 10000\n",
    "lst = []\n",
    "while inpt > 0:\n",
    "    inpt = int(input())\n",
    "    lst.append(inpt)\n",
    "\n",
    "idx = 0 \n",
    "ans = 0\n",
    "for i in range(1, len(lst)):\n",
    "    if lst[i] > lst[idx]:\n",
    "        idx = i\n",
    "for i in range(0, len(lst)):\n",
    "    if lst[i] == lst[idx]:\n",
    "        ans += 1\n",
    "ans"
   ]
  },
  {
   "cell_type": "code",
   "execution_count": null,
   "id": "df780af7",
   "metadata": {},
   "outputs": [],
   "source": [
    "# B. Дома и магазины\n",
    "#число 1 обозначает жилой дом, число 2 обозначает магазин, \n",
    "#число 0 обозначает офисное здание"
   ]
  },
  {
   "cell_type": "code",
   "execution_count": 121,
   "id": "676c09d6",
   "metadata": {
    "ExecuteTime": {
     "end_time": "2022-05-27T11:10:26.785268Z",
     "start_time": "2022-05-27T11:10:18.112553Z"
    }
   },
   "outputs": [
    {
     "name": "stdout",
     "output_type": "stream",
     "text": [
      "2 0 1 1 0 1 0 2 1 2\n",
      "3\n"
     ]
    }
   ],
   "source": [
    "street = [int(x) for x in input().split()]\n",
    "shop = [i for i,x in enumerate(street) if x == 2]\n",
    "home = [i for i,x in enumerate(street) if x == 1]\n",
    "\n",
    "lst = []\n",
    "for i in home:\n",
    "    length = 10\n",
    "    for j in shop:\n",
    "        diff = abs(i-j)\n",
    "        if diff < length:\n",
    "            length = diff\n",
    "    lst.append(length)\n",
    "print(max(lst))"
   ]
  },
  {
   "cell_type": "code",
   "execution_count": 2,
   "id": "4712eadd",
   "metadata": {},
   "outputs": [],
   "source": [
    "# C. Изготовление палиндромов"
   ]
  },
  {
   "cell_type": "code",
   "execution_count": 167,
   "id": "27d76abb",
   "metadata": {
    "ExecuteTime": {
     "end_time": "2022-05-27T13:09:11.778193Z",
     "start_time": "2022-05-27T13:09:08.533215Z"
    }
   },
   "outputs": [
    {
     "name": "stdout",
     "output_type": "stream",
     "text": [
      "cognitive\n",
      "4\n"
     ]
    }
   ],
   "source": [
    "stroka = str(input())\n",
    "\n",
    "if len(stroka) == 1:\n",
    "    print(0)\n",
    "else:\n",
    "    print(len(stroka) // 2)"
   ]
  },
  {
   "cell_type": "code",
   "execution_count": 158,
   "id": "dcdb1da0",
   "metadata": {
    "ExecuteTime": {
     "end_time": "2022-05-27T12:30:42.217449Z",
     "start_time": "2022-05-27T12:30:42.205849Z"
    },
    "collapsed": true
   },
   "outputs": [
    {
     "name": "stdout",
     "output_type": "stream",
     "text": [
      "False\n",
      "False\n"
     ]
    },
    {
     "ename": "IndexError",
     "evalue": "string index out of range",
     "output_type": "error",
     "traceback": [
      "\u001b[0;31m---------------------------------------------------------------------------\u001b[0m",
      "\u001b[0;31mIndexError\u001b[0m                                Traceback (most recent call last)",
      "\u001b[0;32m/var/folders/6q/6lhcsz8d367_fdnlq8mnrfg00000gn/T/ipykernel_5859/3538092003.py\u001b[0m in \u001b[0;36m<module>\u001b[0;34m\u001b[0m\n\u001b[1;32m      8\u001b[0m \u001b[0mplnd\u001b[0m\u001b[0;34m\u001b[0m\u001b[0;34m\u001b[0m\u001b[0m\n\u001b[1;32m      9\u001b[0m \u001b[0;32mfor\u001b[0m \u001b[0mi\u001b[0m \u001b[0;32min\u001b[0m \u001b[0mrange\u001b[0m\u001b[0;34m(\u001b[0m\u001b[0;36m0\u001b[0m\u001b[0;34m,\u001b[0m \u001b[0mmid\u001b[0m\u001b[0;34m)\u001b[0m\u001b[0;34m:\u001b[0m\u001b[0;34m\u001b[0m\u001b[0;34m\u001b[0m\u001b[0m\n\u001b[0;32m---> 10\u001b[0;31m         \u001b[0mprint\u001b[0m\u001b[0;34m(\u001b[0m\u001b[0mstroka\u001b[0m\u001b[0;34m[\u001b[0m\u001b[0;36m0\u001b[0m\u001b[0;34m:\u001b[0m\u001b[0mmid\u001b[0m\u001b[0;34m]\u001b[0m\u001b[0;34m[\u001b[0m\u001b[0mi\u001b[0m\u001b[0;34m]\u001b[0m \u001b[0;34m==\u001b[0m \u001b[0mplnd\u001b[0m\u001b[0;34m[\u001b[0m\u001b[0mmid\u001b[0m\u001b[0;34m:\u001b[0m\u001b[0ml\u001b[0m\u001b[0;34m]\u001b[0m\u001b[0;34m[\u001b[0m\u001b[0mi\u001b[0m\u001b[0;34m]\u001b[0m\u001b[0;34m)\u001b[0m\u001b[0;34m\u001b[0m\u001b[0;34m\u001b[0m\u001b[0m\n\u001b[0m",
      "\u001b[0;31mIndexError\u001b[0m: string index out of range"
     ]
    }
   ],
   "source": [
    "stroka = 'cognitive'\n",
    "mid = len(stroka) // 2\n",
    "length = len(stroka)\n",
    "lst = []\n",
    "plnd = stroka[::-1]\n",
    "\n",
    "mid\n",
    "plnd\n",
    "for i in range(0, mid):\n",
    "        print(stroka[0:mid][i] == plnd[mid:l][i])"
   ]
  },
  {
   "cell_type": "code",
   "execution_count": 160,
   "id": "28965290",
   "metadata": {
    "ExecuteTime": {
     "end_time": "2022-05-27T12:31:01.060656Z",
     "start_time": "2022-05-27T12:31:01.053986Z"
    }
   },
   "outputs": [
    {
     "data": {
      "text/plain": [
       "'in'"
      ]
     },
     "execution_count": 160,
     "metadata": {},
     "output_type": "execute_result"
    }
   ],
   "source": [
    "plnd[mid:l]"
   ]
  },
  {
   "cell_type": "code",
   "execution_count": 149,
   "id": "130be28d",
   "metadata": {
    "ExecuteTime": {
     "end_time": "2022-05-27T12:26:16.833257Z",
     "start_time": "2022-05-27T12:26:16.825584Z"
    }
   },
   "outputs": [
    {
     "data": {
      "text/plain": [
       "2"
      ]
     },
     "execution_count": 149,
     "metadata": {},
     "output_type": "execute_result"
    }
   ],
   "source": [
    "\n",
    "for i in range(0, mid):\n",
    "    lst.append(stroka[0:mid][i] == plnd[mid:l][i])\n"
   ]
  },
  {
   "cell_type": "code",
   "execution_count": null,
   "id": "9f726bd2",
   "metadata": {},
   "outputs": [],
   "source": []
  },
  {
   "cell_type": "code",
   "execution_count": 3,
   "id": "dbd3bbdb",
   "metadata": {},
   "outputs": [],
   "source": [
    "# D. Лавочки в атриуме"
   ]
  },
  {
   "cell_type": "code",
   "execution_count": 172,
   "id": "0e643acc",
   "metadata": {
    "ExecuteTime": {
     "end_time": "2022-05-27T13:42:18.802448Z",
     "start_time": "2022-05-27T13:42:12.819288Z"
    }
   },
   "outputs": [
    {
     "name": "stdout",
     "output_type": "stream",
     "text": [
      "13 4\n",
      "1 4 8 11\n"
     ]
    }
   ],
   "source": [
    "l,k = map(int, input().split())\n",
    "legs = [int(x) for x in input().split()]"
   ]
  },
  {
   "cell_type": "code",
   "execution_count": 175,
   "id": "7440bb55",
   "metadata": {
    "ExecuteTime": {
     "end_time": "2022-05-27T13:42:36.994004Z",
     "start_time": "2022-05-27T13:42:36.988392Z"
    }
   },
   "outputs": [
    {
     "data": {
      "text/plain": [
       "3"
      ]
     },
     "execution_count": 175,
     "metadata": {},
     "output_type": "execute_result"
    }
   ],
   "source": [
    "l // "
   ]
  },
  {
   "cell_type": "code",
   "execution_count": null,
   "id": "759e234f",
   "metadata": {},
   "outputs": [],
   "source": []
  },
  {
   "cell_type": "code",
   "execution_count": null,
   "id": "91c7c079",
   "metadata": {},
   "outputs": [],
   "source": [
    "# E. Дипломы в папках"
   ]
  },
  {
   "cell_type": "code",
   "execution_count": null,
   "id": "0b611a76",
   "metadata": {},
   "outputs": [],
   "source": []
  },
  {
   "cell_type": "code",
   "execution_count": null,
   "id": "c8092408",
   "metadata": {},
   "outputs": [],
   "source": []
  }
 ],
 "metadata": {
  "kernelspec": {
   "display_name": "Python 3 (ipykernel)",
   "language": "python",
   "name": "python3"
  },
  "language_info": {
   "codemirror_mode": {
    "name": "ipython",
    "version": 3
   },
   "file_extension": ".py",
   "mimetype": "text/x-python",
   "name": "python",
   "nbconvert_exporter": "python",
   "pygments_lexer": "ipython3",
   "version": "3.9.7"
  }
 },
 "nbformat": 4,
 "nbformat_minor": 5
}
