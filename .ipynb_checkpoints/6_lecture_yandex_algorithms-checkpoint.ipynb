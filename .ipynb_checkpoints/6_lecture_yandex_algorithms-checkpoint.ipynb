{
 "cells": [
  {
   "cell_type": "markdown",
   "id": "35382e7e",
   "metadata": {},
   "source": [
    "## Лекция 6 - Бинарный поиск\n",
    "[Link](https://www.youtube.com/watch?v=YENpZexHfuk)"
   ]
  },
  {
   "cell_type": "code",
   "execution_count": null,
   "id": "8745738e",
   "metadata": {},
   "outputs": [],
   "source": []
  },
  {
   "cell_type": "code",
   "execution_count": 1,
   "id": "ebc46027",
   "metadata": {
    "ExecuteTime": {
     "end_time": "2022-06-01T08:38:39.294408Z",
     "start_time": "2022-06-01T08:38:39.244011Z"
    }
   },
   "outputs": [],
   "source": [
    "def lbinsearch(l, r, check, checkparams):\n",
    "    while l < r:\n",
    "        m = (l + r) // 2\n",
    "        if check(m, checkparams):\n",
    "            r = m\n",
    "        else:\n",
    "            l = m + 1\n",
    "    return l"
   ]
  },
  {
   "cell_type": "code",
   "execution_count": null,
   "id": "93fe6a07",
   "metadata": {},
   "outputs": [],
   "source": [
    "kbinsearch()"
   ]
  },
  {
   "cell_type": "code",
   "execution_count": null,
   "id": "007ecfa4",
   "metadata": {},
   "outputs": [],
   "source": []
  },
  {
   "cell_type": "code",
   "execution_count": null,
   "id": "6dad792a",
   "metadata": {},
   "outputs": [],
   "source": []
  },
  {
   "cell_type": "code",
   "execution_count": null,
   "id": "181293dd",
   "metadata": {},
   "outputs": [],
   "source": []
  }
 ],
 "metadata": {
  "kernelspec": {
   "display_name": "Python 3 (ipykernel)",
   "language": "python",
   "name": "python3"
  },
  "language_info": {
   "codemirror_mode": {
    "name": "ipython",
    "version": 3
   },
   "file_extension": ".py",
   "mimetype": "text/x-python",
   "name": "python",
   "nbconvert_exporter": "python",
   "pygments_lexer": "ipython3",
   "version": "3.9.7"
  }
 },
 "nbformat": 4,
 "nbformat_minor": 5
}
