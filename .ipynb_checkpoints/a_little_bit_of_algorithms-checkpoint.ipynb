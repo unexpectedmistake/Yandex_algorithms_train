{
 "cells": [
  {
   "cell_type": "code",
   "execution_count": null,
   "id": "e9ee8396",
   "metadata": {},
   "outputs": [],
   "source": []
  },
  {
   "cell_type": "code",
   "execution_count": 4,
   "id": "a6bf3eb7",
   "metadata": {},
   "outputs": [],
   "source": [
    "# find square root\n",
    "\n",
    "def my_sqrt(num, e=0.0001):\n",
    "    l,h = 0, num\n",
    "    mid = num / 2\n",
    "    while (mid**2 - num)**2 > e**2:\n",
    "        if mid**2 >num:\n",
    "            h = mid\n",
    "        else:\n",
    "            l = mid\n",
    "        mid = (l+h)/2\n",
    "    return mid"
   ]
  },
  {
   "cell_type": "code",
   "execution_count": 5,
   "id": "e62a9abb",
   "metadata": {},
   "outputs": [
    {
     "data": {
      "text/plain": [
       "12.649106979370117"
      ]
     },
     "execution_count": 5,
     "metadata": {},
     "output_type": "execute_result"
    }
   ],
   "source": [
    "my_sqrt(160)"
   ]
  },
  {
   "cell_type": "code",
   "execution_count": 6,
   "id": "a74d64e1",
   "metadata": {},
   "outputs": [],
   "source": [
    "# bubble sort\n",
    "\n",
    "def bubble_sort(lst):\n",
    "    for i in range(0, len(lst)): # [1,3,4,2,7]\n",
    "        n = len(lst) - i # 5 \n",
    "        for j in range(1, n):\n",
    "            if lst[j] < lst[j-1]: \n",
    "                lst[j], lst[j-1] = lst[j-1], lst[j] \n",
    "    return lst"
   ]
  },
  {
   "cell_type": "code",
   "execution_count": 7,
   "id": "f82eee69",
   "metadata": {},
   "outputs": [
    {
     "data": {
      "text/plain": [
       "[-5, 1, 1, 2, 3, 3, 4, 5, 5, 5, 7, 8]"
      ]
     },
     "execution_count": 7,
     "metadata": {},
     "output_type": "execute_result"
    }
   ],
   "source": [
    "lst = [3, 1, 7, 4, 2, 5, 8, 3, 5, 1, 5, -5]\n",
    "\n",
    "bubble_sort(lst)"
   ]
  },
  {
   "cell_type": "code",
   "execution_count": 8,
   "id": "61a0a2ac",
   "metadata": {},
   "outputs": [],
   "source": [
    "# binary search\n",
    "\n",
    "def bin_search(lst, num):\n",
    "    l = 0\n",
    "    h = len(lst) \n",
    "    \n",
    "    while l < h:\n",
    "        idx = (l+h) // 2 \n",
    "        mid = lst[idx] \n",
    "        \n",
    "        if mid == num:\n",
    "            return idx\n",
    "        elif mid > num:\n",
    "            h = idx \n",
    "            \n",
    "        else: \n",
    "            l = idx + 1  "
   ]
  },
  {
   "cell_type": "code",
   "execution_count": 9,
   "id": "0501076e",
   "metadata": {},
   "outputs": [
    {
     "data": {
      "text/plain": [
       "7"
      ]
     },
     "execution_count": 9,
     "metadata": {},
     "output_type": "execute_result"
    }
   ],
   "source": [
    "lst = [3, 4, 7, 12, 18, 31, 84, 66, 7]\n",
    "\n",
    "bin_search(lst, 66)"
   ]
  },
  {
   "cell_type": "code",
   "execution_count": 10,
   "id": "a2d4e815",
   "metadata": {},
   "outputs": [],
   "source": [
    "# quick sort\n",
    "\n",
    "def quick_sort(arr):\n",
    "    \n",
    "    if len(arr) < 2:\n",
    "        return arr\n",
    "    else:\n",
    "        pivot = arr[0]\n",
    "        \n",
    "        less = [x for x in arr[1:] if x <= pivot]\n",
    "        greater = [x for x in arr[1:] if x > pivot]\n",
    "        \n",
    "        return quick_sort(less) + [pivot] + quick_sort(greater)"
   ]
  },
  {
   "cell_type": "code",
   "execution_count": 19,
   "id": "d1ab8631",
   "metadata": {},
   "outputs": [
    {
     "data": {
      "text/plain": [
       "[1, 2, 3, 4, 5, 7, 8, 9]"
      ]
     },
     "execution_count": 19,
     "metadata": {},
     "output_type": "execute_result"
    }
   ],
   "source": [
    "lst = [1, 7, 2, 4, 5, 3, 8, 9]\n",
    "\n",
    "quick_sort(lst)"
   ]
  },
  {
   "cell_type": "code",
   "execution_count": null,
   "id": "b4d0d59c",
   "metadata": {},
   "outputs": [],
   "source": [
    "mid = \n",
    "less[x for x in lst[:pivot]]"
   ]
  },
  {
   "cell_type": "code",
   "execution_count": null,
   "id": "1071b8a5",
   "metadata": {},
   "outputs": [],
   "source": [
    "# binary search\n",
    "\n",
    "def bin_search(lst, num):\n",
    "    l = 0\n",
    "    h = len(lst) \n",
    "    \n",
    "    while l < h:\n",
    "        idx = (l+h) // 2 \n",
    "        mid = lst[idx] \n",
    "        \n",
    "        if mid == num:\n",
    "            return idx\n",
    "        elif mid > num:\n",
    "            h = idx \n",
    "            \n",
    "        else: \n",
    "            l = idx + 1  "
   ]
  },
  {
   "cell_type": "code",
   "execution_count": 4,
   "id": "8bbebae7",
   "metadata": {
    "ExecuteTime": {
     "end_time": "2022-05-31T09:34:38.108237Z",
     "start_time": "2022-05-31T09:34:38.103366Z"
    }
   },
   "outputs": [],
   "source": [
    "# for a sorted array\n",
    "# two sum - find two numbers\n",
    "\n",
    "def two_sum(lst, num):\n",
    "    l = 0\n",
    "    r = len(lst)-1\n",
    "    \n",
    "    while l < r:\n",
    "        summa = lst[l] + lst[r]\n",
    "        \n",
    "        if summa == num:\n",
    "            return [lst[l], lst[r]]\n",
    "        elif summa > num:\n",
    "            r -= 1\n",
    "        else:\n",
    "            l += 1\n",
    "            \n",
    "    return []"
   ]
  },
  {
   "cell_type": "code",
   "execution_count": 5,
   "id": "f2053bac",
   "metadata": {
    "ExecuteTime": {
     "end_time": "2022-05-31T09:34:38.764795Z",
     "start_time": "2022-05-31T09:34:38.750015Z"
    }
   },
   "outputs": [
    {
     "data": {
      "text/plain": [
       "[0, 5]"
      ]
     },
     "execution_count": 5,
     "metadata": {},
     "output_type": "execute_result"
    }
   ],
   "source": [
    "lst = [-2, 0, 1, 4, 5, 8]\n",
    "\n",
    "two_sum(lst, 5)"
   ]
  },
  {
   "cell_type": "code",
   "execution_count": 6,
   "id": "70c32967",
   "metadata": {
    "ExecuteTime": {
     "end_time": "2022-05-31T09:37:34.995032Z",
     "start_time": "2022-05-31T09:37:34.989751Z"
    }
   },
   "outputs": [],
   "source": [
    "# for unsorted array\n",
    "def two_sum_unsorted(nums, target):\n",
    "    adds = dict()\n",
    "    for i in range(0, len(nums)):\n",
    "        comp = target - nums[i]\n",
    "        if comp in adds:\n",
    "            return [i, adds[comp]]\n",
    "        else:\n",
    "            adds[nums[i]] = i"
   ]
  },
  {
   "cell_type": "code",
   "execution_count": 7,
   "id": "e59a918e",
   "metadata": {
    "ExecuteTime": {
     "end_time": "2022-05-31T09:37:35.553144Z",
     "start_time": "2022-05-31T09:37:35.546056Z"
    }
   },
   "outputs": [
    {
     "data": {
      "text/plain": [
       "[3, 2]"
      ]
     },
     "execution_count": 7,
     "metadata": {},
     "output_type": "execute_result"
    }
   ],
   "source": [
    "lst = [-2, 0, 1, 4, 5, 8]\n",
    "\n",
    "two_sum_unsorted(lst, 5)"
   ]
  },
  {
   "cell_type": "code",
   "execution_count": 13,
   "id": "d54b52f1",
   "metadata": {
    "ExecuteTime": {
     "end_time": "2022-05-31T09:41:39.836555Z",
     "start_time": "2022-05-31T09:41:39.831925Z"
    }
   },
   "outputs": [],
   "source": [
    "nums1, nums2 = [4,9,5,6,6], [6,6,5,3]\n"
   ]
  },
  {
   "cell_type": "code",
   "execution_count": 17,
   "id": "40d212fa",
   "metadata": {
    "ExecuteTime": {
     "end_time": "2022-05-31T09:45:55.886784Z",
     "start_time": "2022-05-31T09:45:55.877287Z"
    }
   },
   "outputs": [
    {
     "data": {
      "text/plain": [
       "Counter({4: 1, 9: 1, 5: 1, 6: 2})"
      ]
     },
     "execution_count": 17,
     "metadata": {},
     "output_type": "execute_result"
    }
   ],
   "source": [
    "from collections import Counter\n",
    "Counter(nums1)"
   ]
  },
  {
   "cell_type": "code",
   "execution_count": 19,
   "id": "ecd72597",
   "metadata": {
    "ExecuteTime": {
     "end_time": "2022-05-31T09:46:37.607249Z",
     "start_time": "2022-05-31T09:46:37.600229Z"
    }
   },
   "outputs": [
    {
     "data": {
      "text/plain": [
       "[6, 6, 5]"
      ]
     },
     "execution_count": 19,
     "metadata": {},
     "output_type": "execute_result"
    }
   ],
   "source": [
    "arr = [0] * 1001\n",
    "ans = []\n",
    "for i in nums1:\n",
    "    arr[i] += 1\n",
    "for j in nums2:\n",
    "    if arr[j] > 0:\n",
    "        ans.append(j)\n",
    "        arr[j] -= 1\n",
    "ans"
   ]
  },
  {
   "cell_type": "code",
   "execution_count": 24,
   "id": "191b5bc6",
   "metadata": {
    "ExecuteTime": {
     "end_time": "2022-05-31T09:55:54.769497Z",
     "start_time": "2022-05-31T09:55:54.765573Z"
    }
   },
   "outputs": [],
   "source": [
    "for i in nums1:\n",
    "    arr[i] += 1"
   ]
  },
  {
   "cell_type": "code",
   "execution_count": 32,
   "id": "c2cc676f",
   "metadata": {
    "ExecuteTime": {
     "end_time": "2022-05-31T10:04:12.439475Z",
     "start_time": "2022-05-31T10:04:12.435017Z"
    }
   },
   "outputs": [],
   "source": [
    "prices = [7,6,4,3,1]"
   ]
  },
  {
   "cell_type": "code",
   "execution_count": 33,
   "id": "a5328ee9",
   "metadata": {
    "ExecuteTime": {
     "end_time": "2022-05-31T10:07:21.210812Z",
     "start_time": "2022-05-31T10:07:21.202828Z"
    }
   },
   "outputs": [
    {
     "data": {
      "text/plain": [
       "0"
      ]
     },
     "execution_count": 33,
     "metadata": {},
     "output_type": "execute_result"
    }
   ],
   "source": [
    "profit = 0\n",
    "min_price = prices[0] \n",
    "for i in prices:\n",
    "    min_price = min(min_price, i) \n",
    "    profit = max(profit, i - min_price) \n",
    "profit"
   ]
  },
  {
   "cell_type": "code",
   "execution_count": null,
   "id": "931ee38a",
   "metadata": {},
   "outputs": [],
   "source": []
  },
  {
   "cell_type": "code",
   "execution_count": null,
   "id": "f6655af3",
   "metadata": {},
   "outputs": [],
   "source": []
  },
  {
   "cell_type": "code",
   "execution_count": null,
   "id": "a9f2b4c8",
   "metadata": {},
   "outputs": [],
   "source": []
  },
  {
   "cell_type": "code",
   "execution_count": null,
   "id": "d8311299",
   "metadata": {},
   "outputs": [],
   "source": []
  }
 ],
 "metadata": {
  "kernelspec": {
   "display_name": "Python 3 (ipykernel)",
   "language": "python",
   "name": "python3"
  },
  "language_info": {
   "codemirror_mode": {
    "name": "ipython",
    "version": 3
   },
   "file_extension": ".py",
   "mimetype": "text/x-python",
   "name": "python",
   "nbconvert_exporter": "python",
   "pygments_lexer": "ipython3",
   "version": "3.9.7"
  }
 },
 "nbformat": 4,
 "nbformat_minor": 5
}
