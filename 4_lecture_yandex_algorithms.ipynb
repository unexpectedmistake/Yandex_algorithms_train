{
 "cells": [
  {
   "cell_type": "markdown",
   "id": "a9a80f6d",
   "metadata": {},
   "source": [
    "## Лекция 4 - Словари и сортировка подсчётом\n",
    "[Link](https://youtu.be/Nb5mW1yWVSs])"
   ]
  },
  {
   "cell_type": "markdown",
   "id": "e2e339ff",
   "metadata": {},
   "source": [
    "## Сортировка подсчетом\n",
    "> Необходимо отсортировать массив из N целых чисел, каждое от 0 до К.\n",
    "\n",
    "Считаем кол-во вхождений каждого числа, а затем выводить каждое число столько раз, сколько оно встречалось. Это займет O(N+K) и O(K) дополнительной памяти."
   ]
  },
  {
   "cell_type": "code",
   "execution_count": 8,
   "id": "e1b2b983",
   "metadata": {
    "ExecuteTime": {
     "end_time": "2022-05-30T10:58:20.771466Z",
     "start_time": "2022-05-30T10:58:20.764269Z"
    }
   },
   "outputs": [],
   "source": [
    "# функция изменяет значения последовательности\n",
    "def countsort(seq):\n",
    "    minval = min(seq)\n",
    "    maxval = max(seq)\n",
    "    k = (maxval - minval + 1)\n",
    "    count = [0] * k\n",
    "    for now in seq:\n",
    "        count[now - minval] += 1\n",
    "    nowpos = 0\n",
    "    for val in range(0, k):\n",
    "        for i in range(count[val]):\n",
    "            seq[nowpos] = val + minval\n",
    "            nowpos += 1\n",
    "    return seq\n",
    "            "
   ]
  },
  {
   "cell_type": "code",
   "execution_count": 9,
   "id": "4796db39",
   "metadata": {
    "ExecuteTime": {
     "end_time": "2022-05-30T10:58:21.100603Z",
     "start_time": "2022-05-30T10:58:21.082501Z"
    }
   },
   "outputs": [
    {
     "data": {
      "text/plain": [
       "[1, 2, 2, 3, 3, 4, 5, 5, 5]"
      ]
     },
     "execution_count": 9,
     "metadata": {},
     "output_type": "execute_result"
    }
   ],
   "source": [
    "countsort([5,5,5,4,1,3,2,2,3])"
   ]
  },
  {
   "cell_type": "markdown",
   "id": "cea8b685",
   "metadata": {},
   "source": [
    "### Задача 1\n",
    "> Дано два числа X и Y без ведущих нулей <br/>\n",
    "\n",
    "Необходимо проверить, можно ли получить первое из второго перестановкой цифр"
   ]
  },
  {
   "cell_type": "markdown",
   "id": "9d20d955",
   "metadata": {},
   "source": [
    "### Решение\n",
    "Посчитаем кол-во вхождений каждой цифры в каждое из числе и сравним. Цифры будем постепенно добывать из числа справа с помощью %10 и //10"
   ]
  },
  {
   "cell_type": "code",
   "execution_count": 17,
   "id": "aff38e83",
   "metadata": {
    "ExecuteTime": {
     "end_time": "2022-05-30T11:09:59.168258Z",
     "start_time": "2022-05-30T11:09:59.162543Z"
    }
   },
   "outputs": [],
   "source": [
    "def isdigitpermutation(x, y):\n",
    "    def countdigits(num):\n",
    "        digitcount = [0] * 10\n",
    "        while num > 0:\n",
    "            lastdigit = num % 10\n",
    "            digitcount[lastdigit] += 1\n",
    "            num //= 10\n",
    "        return digitcount\n",
    "    \n",
    "    digitsx = countdigits(x)\n",
    "    digitsy = countdigits(y)\n",
    "    for digit in range(10):\n",
    "        if digitsx[digit] != digitsy[digit]:\n",
    "            return False\n",
    "    return True"
   ]
  },
  {
   "cell_type": "code",
   "execution_count": 21,
   "id": "6e9efa5f",
   "metadata": {
    "ExecuteTime": {
     "end_time": "2022-05-30T11:10:10.641119Z",
     "start_time": "2022-05-30T11:10:10.633224Z"
    }
   },
   "outputs": [
    {
     "data": {
      "text/plain": [
       "True"
      ]
     },
     "execution_count": 21,
     "metadata": {},
     "output_type": "execute_result"
    }
   ],
   "source": [
    "isdigitpermutation(2021, 2120)"
   ]
  },
  {
   "cell_type": "code",
   "execution_count": 23,
   "id": "c4068551",
   "metadata": {
    "ExecuteTime": {
     "end_time": "2022-05-30T11:10:17.209541Z",
     "start_time": "2022-05-30T11:10:17.203205Z"
    }
   },
   "outputs": [
    {
     "data": {
      "text/plain": [
       "[1, 1, 2, 0, 0, 0, 0, 0, 0, 0]"
      ]
     },
     "execution_count": 23,
     "metadata": {},
     "output_type": "execute_result"
    }
   ],
   "source": [
    "countdigits(2021)"
   ]
  },
  {
   "cell_type": "markdown",
   "id": "350b82ba",
   "metadata": {},
   "source": [
    "## Словари\n",
    "* Словари - как множество, но к каждому ключу приписано значение\n",
    "* Искать по значению в словаре нельзя\n",
    "* Константа в сложности словарей заметно больше, чем у массивов, поэтому где можно - лучше использовать сортировку подсчетом\n",
    "* Сортировку подсчетом неразумно использовать, если данные разреженные"
   ]
  },
  {
   "cell_type": "markdown",
   "id": "e90bdf16",
   "metadata": {},
   "source": [
    "### Задача 2\n",
    "> На шахматной доске NxN находятся M ладей <br/>\n",
    "\n",
    "Определите, сколько пар ладей бьют друг друга <br/>\n",
    "$ 1 \\le N \\le 10^9$,$ 0 \\le M \\le 2*10^5$"
   ]
  },
  {
   "cell_type": "markdown",
   "id": "d4b81c43",
   "metadata": {},
   "source": [
    "### Решение\n",
    "Для каждой занятой горизонтали и вертикали будем хранить количество ладей на них. Количество пар в горизонтали(вертикали) равно количеству ладей мину 1. Суммируем это количество пар для всех горизонталей и вертикалей."
   ]
  },
  {
   "cell_type": "code",
   "execution_count": 24,
   "id": "d4466cdc",
   "metadata": {
    "ExecuteTime": {
     "end_time": "2022-05-30T11:24:12.538921Z",
     "start_time": "2022-05-30T11:24:12.528463Z"
    }
   },
   "outputs": [],
   "source": [
    "def countbeatingrooks(rookcoords):\n",
    "    \n",
    "    def addrook(roworcol, key):\n",
    "        if key not in roworcol:\n",
    "            roworcol[key] = 0\n",
    "        roworcol[key] += 1\n",
    "        \n",
    "    def countpairs(roworcol):\n",
    "        pairs = 0\n",
    "        for key in roworcol:\n",
    "            pairs += roworcol[key] - 1\n",
    "        return pairs\n",
    "    \n",
    "    rooksinrow = {}\n",
    "    rooksincol = {}\n",
    "    for row, col in rookcoords:\n",
    "        addrook(rooksinrow, row)\n",
    "        addrook(rooksincol, col)\n",
    "    return countpairs(rooksinrow) + countpairs(rooksincol)"
   ]
  },
  {
   "cell_type": "markdown",
   "id": "bc427771",
   "metadata": {},
   "source": [
    "### Задача 3\n",
    "> Дана строка S <br/>\n",
    "\n",
    "Выведите гистограмму по сортированным символам с частотами в виде #"
   ]
  },
  {
   "cell_type": "markdown",
   "id": "63354ca6",
   "metadata": {},
   "source": [
    "### Решение\n",
    "Для каждого симлова в словаре посчитаем, сколько раз он встречался. Найдем самый частый символ и переберем количество от этого числа до 1. Пройдем по всем отсортированным ключам и если количество больше счетчика - выведем #."
   ]
  },
  {
   "cell_type": "code",
   "execution_count": 26,
   "id": "cb457052",
   "metadata": {
    "ExecuteTime": {
     "end_time": "2022-05-30T11:34:28.697632Z",
     "start_time": "2022-05-30T11:34:28.688576Z"
    }
   },
   "outputs": [],
   "source": [
    "def printchart(s):\n",
    "    symcount = {}\n",
    "    maxsymcount = 0\n",
    "    for sym in s:\n",
    "        if sym not in symcount:\n",
    "            symcount[sym] = 0\n",
    "        symcount[sym] += 1\n",
    "        maxsymcount = max(maxsymcount, symcount[sym])\n",
    "    sorteduniqsyms = sorted(symcount.keys())\n",
    "    for row in range(maxsymcount, 0, -1):\n",
    "        for sym in sorteduniqsyms:\n",
    "            if symcount[sym] >= row:\n",
    "                print('#', end = '')\n",
    "            else:\n",
    "                print(' ', end = '')\n",
    "        print()\n",
    "    print(''.join(sorteduniqsyms))"
   ]
  },
  {
   "cell_type": "code",
   "execution_count": 29,
   "id": "3f434517",
   "metadata": {
    "ExecuteTime": {
     "end_time": "2022-05-30T11:36:48.623293Z",
     "start_time": "2022-05-30T11:36:48.616961Z"
    }
   },
   "outputs": [
    {
     "name": "stdout",
     "output_type": "stream",
     "text": [
      "#            \n",
      "#            \n",
      "# ## #       \n",
      "# #####      \n",
      "#############\n",
      " ,aeghinorstw\n"
     ]
    }
   ],
   "source": [
    "printchart('ah shit, here we go again')"
   ]
  },
  {
   "cell_type": "markdown",
   "id": "50a53066",
   "metadata": {},
   "source": [
    "## Всегда ли асимптотически лучшее решение лучше?\n"
   ]
  },
  {
   "cell_type": "markdown",
   "id": "aa9ec0ae",
   "metadata": {
    "ExecuteTime": {
     "end_time": "2022-05-30T11:42:03.680969Z",
     "start_time": "2022-05-30T11:42:03.668146Z"
    }
   },
   "source": [
    "При  $N>2^{500}$ решение за O(N) лучше,чем решение за O(N logN)"
   ]
  },
  {
   "cell_type": "markdown",
   "id": "0932b495",
   "metadata": {},
   "source": [
    "Другие критерии качества алгоритма:\n",
    "- потребление памяти\n",
    "- время на реализацию\n",
    "- сложность поддержки\n",
    "- возможность распараллеливания\n",
    "- необходимая квалификация сотрудника\n",
    "- стоимость оборудования"
   ]
  },
  {
   "cell_type": "markdown",
   "id": "4b5eb65b",
   "metadata": {
    "ExecuteTime": {
     "end_time": "2022-05-30T11:46:14.506372Z",
     "start_time": "2022-05-30T11:46:14.495911Z"
    }
   },
   "source": [
    "### Задача 4\n",
    "> Сгруппировать слова по общим буквам <br/>\n"
   ]
  },
  {
   "cell_type": "markdown",
   "id": "ea5bd980",
   "metadata": {},
   "source": [
    "### Решение\n",
    "Отсортируем в каждом слове буквы и это будет выступать в роли ключа, а значением будет список слов"
   ]
  },
  {
   "cell_type": "code",
   "execution_count": 40,
   "id": "44e2c6ec",
   "metadata": {
    "ExecuteTime": {
     "end_time": "2022-05-30T11:56:11.758791Z",
     "start_time": "2022-05-30T11:56:11.753481Z"
    }
   },
   "outputs": [],
   "source": [
    "def groupwords(words):\n",
    "    groups = {}\n",
    "    for word in words:\n",
    "        sortedword = ''.join(sorted(word))\n",
    "        if sortedword not in groups:\n",
    "            groups[sortedword] = []\n",
    "        groups[sortedword].append(word)\n",
    "    ans = []\n",
    "    for sortedword in groups:\n",
    "        ans.append(groups[sortedword])\n",
    "    return ans"
   ]
  },
  {
   "cell_type": "code",
   "execution_count": 41,
   "id": "61afef78",
   "metadata": {
    "ExecuteTime": {
     "end_time": "2022-05-30T11:56:12.141042Z",
     "start_time": "2022-05-30T11:56:12.131804Z"
    }
   },
   "outputs": [
    {
     "data": {
      "text/plain": [
       "[['eat', 'tea', 'ate'], ['tan', 'nat'], ['bat']]"
      ]
     },
     "execution_count": 41,
     "metadata": {},
     "output_type": "execute_result"
    }
   ],
   "source": [
    "groupwords(['eat', 'tea', 'tan', 'ate', 'nat', 'bat'])"
   ]
  },
  {
   "cell_type": "markdown",
   "id": "78143bfb",
   "metadata": {
    "ExecuteTime": {
     "end_time": "2022-05-30T11:50:41.008049Z",
     "start_time": "2022-05-30T11:50:40.997380Z"
    }
   },
   "source": [
    "Но если слова будут длинными - сортировка займет O(N logN).\n",
    "Количесвто различных букв в слове $K \\le N$, можем посчитать количество каждой за O(N) и отсортировать за O(K logK). <br/>\n",
    "Попробуем оптимизировать?"
   ]
  },
  {
   "cell_type": "code",
   "execution_count": 45,
   "id": "258ec8b4",
   "metadata": {
    "ExecuteTime": {
     "end_time": "2022-05-30T11:56:50.855973Z",
     "start_time": "2022-05-30T11:56:50.846424Z"
    }
   },
   "outputs": [],
   "source": [
    "def groupwords_opt(words):\n",
    "    \n",
    "    def keybyword(word):\n",
    "        symcnt = {}\n",
    "        for sym in word:\n",
    "            if sym not in symcnt:\n",
    "                symcnt[sym] = 0\n",
    "            symcnt[sym] += 1\n",
    "        lst = []\n",
    "        for sym in sorted(symcnt.keys()):\n",
    "            lst.append(sym)\n",
    "            lst.append(str(symcnt[sym]))\n",
    "        return ''.join(lst)\n",
    "    \n",
    "    groups = {}\n",
    "    for word in words:\n",
    "        groupkey = keybyword(word)\n",
    "        if groupkey not in groups:\n",
    "            groups[groupkey] = []\n",
    "        groups[groupkey].append(word)\n",
    "    ans = []\n",
    "    for groupkey in groups:\n",
    "        ans.append(groups[groupkey])\n",
    "    return ans"
   ]
  },
  {
   "cell_type": "code",
   "execution_count": 46,
   "id": "42bd1c43",
   "metadata": {
    "ExecuteTime": {
     "end_time": "2022-05-30T11:56:51.167608Z",
     "start_time": "2022-05-30T11:56:51.151621Z"
    }
   },
   "outputs": [
    {
     "data": {
      "text/plain": [
       "[['eat', 'tea', 'ate'], ['tan', 'nat'], ['bat']]"
      ]
     },
     "execution_count": 46,
     "metadata": {},
     "output_type": "execute_result"
    }
   ],
   "source": [
    "groupwords_opt(['eat', 'tea', 'tan', 'ate', 'nat', 'bat'])"
   ]
  },
  {
   "cell_type": "markdown",
   "id": "7e86ee02",
   "metadata": {},
   "source": [
    "На самом деле работает дольше"
   ]
  },
  {
   "cell_type": "code",
   "execution_count": null,
   "id": "20817065",
   "metadata": {},
   "outputs": [],
   "source": []
  },
  {
   "cell_type": "markdown",
   "id": "319c34b0",
   "metadata": {},
   "source": [
    "### Домашнее задание\n",
    "[Link](https://contest.yandex.ru/contest/28970)"
   ]
  },
  {
   "cell_type": "code",
   "execution_count": 1,
   "id": "b8637b5d",
   "metadata": {
    "ExecuteTime": {
     "end_time": "2022-05-30T10:15:35.681829Z",
     "start_time": "2022-05-30T10:15:35.671560Z"
    }
   },
   "outputs": [],
   "source": [
    "# A. Толя-Карп и новый набор структур, часть 2"
   ]
  },
  {
   "cell_type": "code",
   "execution_count": null,
   "id": "1d1bc52e",
   "metadata": {},
   "outputs": [],
   "source": []
  },
  {
   "cell_type": "code",
   "execution_count": 2,
   "id": "42c17d59",
   "metadata": {
    "ExecuteTime": {
     "end_time": "2022-05-30T10:15:37.137240Z",
     "start_time": "2022-05-30T10:15:37.133120Z"
    }
   },
   "outputs": [],
   "source": [
    "# B. Выборы в США"
   ]
  },
  {
   "cell_type": "code",
   "execution_count": null,
   "id": "ba8b4133",
   "metadata": {},
   "outputs": [],
   "source": []
  },
  {
   "cell_type": "code",
   "execution_count": 3,
   "id": "5312c6b7",
   "metadata": {
    "ExecuteTime": {
     "end_time": "2022-05-30T10:15:38.424160Z",
     "start_time": "2022-05-30T10:15:38.420887Z"
    }
   },
   "outputs": [],
   "source": [
    "# C. Частотный анализ"
   ]
  },
  {
   "cell_type": "code",
   "execution_count": null,
   "id": "18430568",
   "metadata": {},
   "outputs": [],
   "source": []
  },
  {
   "cell_type": "code",
   "execution_count": 4,
   "id": "df3d0972",
   "metadata": {
    "ExecuteTime": {
     "end_time": "2022-05-30T10:15:39.752045Z",
     "start_time": "2022-05-30T10:15:39.747819Z"
    }
   },
   "outputs": [],
   "source": [
    "# D. Выборы Государственной Думы"
   ]
  },
  {
   "cell_type": "code",
   "execution_count": null,
   "id": "c60f5371",
   "metadata": {},
   "outputs": [],
   "source": []
  },
  {
   "cell_type": "code",
   "execution_count": null,
   "id": "adfb946f",
   "metadata": {},
   "outputs": [],
   "source": [
    "# E. Форум"
   ]
  },
  {
   "cell_type": "code",
   "execution_count": null,
   "id": "d045d93b",
   "metadata": {},
   "outputs": [],
   "source": []
  },
  {
   "cell_type": "code",
   "execution_count": null,
   "id": "461b46e8",
   "metadata": {},
   "outputs": [],
   "source": []
  }
 ],
 "metadata": {
  "kernelspec": {
   "display_name": "Python 3 (ipykernel)",
   "language": "python",
   "name": "python3"
  },
  "language_info": {
   "codemirror_mode": {
    "name": "ipython",
    "version": 3
   },
   "file_extension": ".py",
   "mimetype": "text/x-python",
   "name": "python",
   "nbconvert_exporter": "python",
   "pygments_lexer": "ipython3",
   "version": "3.9.7"
  }
 },
 "nbformat": 4,
 "nbformat_minor": 5
}
