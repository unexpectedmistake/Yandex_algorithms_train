{
 "cells": [
  {
   "cell_type": "markdown",
   "id": "35382e7e",
   "metadata": {},
   "source": [
    "## Лекция 6 - Бинарный поиск\n",
    "[Link](https://www.youtube.com/watch?v=YENpZexHfuk)"
   ]
  },
  {
   "cell_type": "code",
   "execution_count": null,
   "id": "8745738e",
   "metadata": {},
   "outputs": [],
   "source": []
  },
  {
   "cell_type": "code",
   "execution_count": 1,
   "id": "ebc46027",
   "metadata": {
    "ExecuteTime": {
     "end_time": "2022-06-25T13:14:00.215835Z",
     "start_time": "2022-06-25T13:14:00.194651Z"
    }
   },
   "outputs": [],
   "source": [
    "def lbinsearch(l, r, check, checkparams):\n",
    "    while l < r:\n",
    "        m = (l + r) // 2\n",
    "        if check(m, checkparams):\n",
    "            r = m\n",
    "        else:\n",
    "            l = m + 1\n",
    "    return l"
   ]
  },
  {
   "cell_type": "code",
   "execution_count": 2,
   "id": "ea820362",
   "metadata": {
    "ExecuteTime": {
     "end_time": "2022-06-25T13:14:24.569708Z",
     "start_time": "2022-06-25T13:14:24.564222Z"
    }
   },
   "outputs": [],
   "source": [
    "def lbinsearch(l, r, check, checkparams):\n",
    "    while l < r:\n",
    "        m = (l + r + 1) // 2\n",
    "        if check(m, checkparams):\n",
    "            l = m\n",
    "        else:\n",
    "            r = m - 1\n",
    "    return l"
   ]
  },
  {
   "cell_type": "markdown",
   "id": "21a8697a",
   "metadata": {},
   "source": [
    "### Задача 1\n",
    "> В управляющий совет школы входят родители, учителя и учащиеся школа, причем родителе должно быть не менее одной трети от общегочисла членов совета. В настоящий моментв. совет входит N человек, из них K родителей <br/>\n",
    "\n",
    "Определите, сколько родителей нужно дополнительно ввести в совет, чтобы их число стало составлять не менее трети от числа членов совета."
   ]
  },
  {
   "cell_type": "markdown",
   "id": "b52c5c8f",
   "metadata": {},
   "source": [
    "### Решение\n",
    "Будем искать минимальное количество родителей, которых нужно добавить, бинарным поиском. Не забываем, что новые родители добавлются к общему числу членов совета. Не используем деление. L = 0, R = N"
   ]
  },
  {
   "cell_type": "code",
   "execution_count": 4,
   "id": "71d0c5a0",
   "metadata": {
    "ExecuteTime": {
     "end_time": "2022-06-25T13:42:57.582417Z",
     "start_time": "2022-06-25T13:42:57.576018Z"
    }
   },
   "outputs": [],
   "source": [
    "def checkendownment(m, params):\n",
    "    n, k = params\n",
    "    return (k + m) * 3 >= n + m"
   ]
  },
  {
   "cell_type": "code",
   "execution_count": 3,
   "id": "f61d050f",
   "metadata": {
    "ExecuteTime": {
     "end_time": "2022-06-25T13:42:11.014656Z",
     "start_time": "2022-06-25T13:42:11.009727Z"
    }
   },
   "outputs": [],
   "source": [
    "def lbinsearch(l, r, check, checkparams):\n",
    "    while l < r:\n",
    "        m = (l + r) // 2\n",
    "        if check(m, checkparams):\n",
    "            r = m\n",
    "        else:\n",
    "            l = m + 1\n",
    "    return l"
   ]
  },
  {
   "cell_type": "code",
   "execution_count": null,
   "id": "1a841a99",
   "metadata": {},
   "outputs": [],
   "source": []
  },
  {
   "cell_type": "markdown",
   "id": "a7c9f784",
   "metadata": {},
   "source": [
    "### Задача 2\n",
    "> Юра решил подготовиться к собеседованию в Яндекс. Он выбрал на сайте leetcode N задач. В первый день Юра решил K  задач, а в каждый следующий день Юра решал на одну задачу больше, чем в предыдущий день <br/>\n",
    "\n",
    "Определите, сколько дней уйдет у Юры на подготовку к собеседованию."
   ]
  },
  {
   "cell_type": "markdown",
   "id": "b0b06b86",
   "metadata": {},
   "source": [
    "### Решение\n",
    "Будем искать минимальное количество дней, достаточное для решения не менее N задач, бинарным поиском; Нам понадобится формула арифметической прогресси. L = 0, R = 0"
   ]
  },
  {
   "cell_type": "code",
   "execution_count": 5,
   "id": "954990b4",
   "metadata": {
    "ExecuteTime": {
     "end_time": "2022-06-25T13:50:55.842918Z",
     "start_time": "2022-06-25T13:50:55.838339Z"
    }
   },
   "outputs": [],
   "source": [
    "def checkendownment(days, params):\n",
    "    n, k = params\n",
    "    return (k + (k + days -1)) * days // 2 >= n"
   ]
  },
  {
   "cell_type": "code",
   "execution_count": 6,
   "id": "a12c70ce",
   "metadata": {
    "ExecuteTime": {
     "end_time": "2022-06-25T13:50:55.967423Z",
     "start_time": "2022-06-25T13:50:55.955270Z"
    }
   },
   "outputs": [],
   "source": [
    "def lbinsearch(l, r, check, checkparams):\n",
    "    while l < r:\n",
    "        m = (l + r) // 2\n",
    "        if check(m, checkparams):\n",
    "            r = m\n",
    "        else:\n",
    "            l = m + 1\n",
    "    return l"
   ]
  },
  {
   "cell_type": "markdown",
   "id": "9fa5c322",
   "metadata": {},
   "source": [
    "### Задача 3\n",
    "Определите максимальную длину стороны стикера, чтобы все стикеры поместились на доске."
   ]
  },
  {
   "cell_type": "markdown",
   "id": "eec8294f",
   "metadata": {},
   "source": [
    "### Решение\n",
    "Будем искать максимальную сторону стикера бинарным поиском"
   ]
  },
  {
   "cell_type": "code",
   "execution_count": 7,
   "id": "89ffd412",
   "metadata": {
    "ExecuteTime": {
     "end_time": "2022-06-25T14:00:46.086379Z",
     "start_time": "2022-06-25T14:00:46.079918Z"
    }
   },
   "outputs": [],
   "source": [
    "def checkstikers(size, params):\n",
    "    n, w, h = params\n",
    "    return (w // size) * (h // size) >= n"
   ]
  },
  {
   "cell_type": "code",
   "execution_count": 8,
   "id": "19d83b26",
   "metadata": {
    "ExecuteTime": {
     "end_time": "2022-06-26T09:19:54.403935Z",
     "start_time": "2022-06-26T09:19:54.375605Z"
    }
   },
   "outputs": [],
   "source": [
    "def rbinsearch(l, r, check, checkparams):\n",
    "    while i != r:\n",
    "        m = (l + r +1) // 2\n",
    "        if check(m, checkparams):\n",
    "            l = m\n",
    "        else:\n",
    "            r = m -1"
   ]
  },
  {
   "cell_type": "markdown",
   "id": "ae124ede",
   "metadata": {},
   "source": [
    "### Задача 4\n",
    "> Задача отсортированная по неубыванию последовательность из N чисел и число X.\n",
    "\n",
    "Необходимо определить индекс первого числа в последовательности, которое больше либо равно X. Если такого числа нет, то вернуть число N."
   ]
  },
  {
   "cell_type": "markdown",
   "id": "5e371ce0",
   "metadata": {},
   "source": [
    "### Решение\n",
    "Воспользуемся левым бинпоиском для поиска первого подходящего числа. В случае, если бинпоиск сошелся к числу, меньшему X вернем N."
   ]
  },
  {
   "cell_type": "code",
   "execution_count": 9,
   "id": "b9ad1f4f",
   "metadata": {
    "ExecuteTime": {
     "end_time": "2022-06-26T09:23:55.498206Z",
     "start_time": "2022-06-26T09:23:55.491091Z"
    }
   },
   "outputs": [],
   "source": [
    "def checkisge(index, params):\n",
    "    seq, x = params\n",
    "    return seq[index] >= x"
   ]
  },
  {
   "cell_type": "code",
   "execution_count": 10,
   "id": "a41b948a",
   "metadata": {
    "ExecuteTime": {
     "end_time": "2022-06-26T09:24:38.792462Z",
     "start_time": "2022-06-26T09:24:38.786097Z"
    }
   },
   "outputs": [],
   "source": [
    "def findfirstge(seq, x):\n",
    "    ans = lbinsearch(0, len(seq) - 1, checkisge, (seq, x))\n",
    "    if seq[ans] < x:\n",
    "        return len(seq)\n",
    "    return ans"
   ]
  },
  {
   "cell_type": "markdown",
   "id": "be2e98ed",
   "metadata": {},
   "source": [
    "### Задача 5\n",
    "> Задача отсортированная по неубыванию последовательность из N чисел и число X.\n",
    "\n",
    "Необходимо определить сколько раз число X входит в последовательность."
   ]
  },
  {
   "cell_type": "markdown",
   "id": "999ea8a8",
   "metadata": {},
   "source": [
    "### Решение\n",
    "Найдем одним левым бинпоиском первое число больше либо равное X, а вторым левым бинпоиском - число строго большее X. Разность индексов и будет количеством вхождений."
   ]
  },
  {
   "cell_type": "code",
   "execution_count": 12,
   "id": "9b38a469",
   "metadata": {
    "ExecuteTime": {
     "end_time": "2022-06-26T09:31:24.326462Z",
     "start_time": "2022-06-26T09:31:24.321489Z"
    }
   },
   "outputs": [],
   "source": [
    "def checkisgt(index, params):\n",
    "    seq, x = params\n",
    "    return seq[index] > x"
   ]
  },
  {
   "cell_type": "code",
   "execution_count": 13,
   "id": "827b3ccc",
   "metadata": {
    "ExecuteTime": {
     "end_time": "2022-06-26T09:31:45.893683Z",
     "start_time": "2022-06-26T09:31:45.889590Z"
    }
   },
   "outputs": [],
   "source": [
    "def cehckisge(index, params):\n",
    "    seq, x = params\n",
    "    return seq[index] >= x"
   ]
  },
  {
   "cell_type": "code",
   "execution_count": 15,
   "id": "f1fc382e",
   "metadata": {
    "ExecuteTime": {
     "end_time": "2022-06-26T09:33:00.150781Z",
     "start_time": "2022-06-26T09:33:00.145371Z"
    }
   },
   "outputs": [],
   "source": [
    "def findfirsrt(seq, x, check):\n",
    "    ans = lbinsearch(0, len(seq) - 1, check,(seq, x))\n",
    "    if not check(ans, (seq, x)):\n",
    "        return len(seq)\n",
    "    return ans"
   ]
  },
  {
   "cell_type": "code",
   "execution_count": 16,
   "id": "69df1717",
   "metadata": {
    "ExecuteTime": {
     "end_time": "2022-06-26T09:33:41.208717Z",
     "start_time": "2022-06-26T09:33:41.204047Z"
    }
   },
   "outputs": [],
   "source": [
    "def countx(seq, x):\n",
    "    indexgt = findfirst(seq, x, checkisgt)\n",
    "    indexge = findfirst(seq, x, checkisge)\n",
    "    return indexgt - indexge"
   ]
  },
  {
   "cell_type": "code",
   "execution_count": null,
   "id": "d150c528",
   "metadata": {},
   "outputs": [],
   "source": []
  },
  {
   "cell_type": "code",
   "execution_count": null,
   "id": "c37fa511",
   "metadata": {},
   "outputs": [],
   "source": []
  },
  {
   "cell_type": "code",
   "execution_count": null,
   "id": "6002ff72",
   "metadata": {},
   "outputs": [],
   "source": []
  },
  {
   "cell_type": "code",
   "execution_count": null,
   "id": "70dd8110",
   "metadata": {},
   "outputs": [],
   "source": []
  },
  {
   "cell_type": "code",
   "execution_count": null,
   "id": "2716130a",
   "metadata": {},
   "outputs": [],
   "source": []
  },
  {
   "cell_type": "code",
   "execution_count": null,
   "id": "4b53689c",
   "metadata": {},
   "outputs": [],
   "source": []
  },
  {
   "cell_type": "code",
   "execution_count": null,
   "id": "2856b164",
   "metadata": {},
   "outputs": [],
   "source": []
  },
  {
   "cell_type": "code",
   "execution_count": null,
   "id": "6dad792a",
   "metadata": {},
   "outputs": [],
   "source": []
  },
  {
   "cell_type": "code",
   "execution_count": null,
   "id": "181293dd",
   "metadata": {},
   "outputs": [],
   "source": []
  }
 ],
 "metadata": {
  "kernelspec": {
   "display_name": "Python 3 (ipykernel)",
   "language": "python",
   "name": "python3"
  },
  "language_info": {
   "codemirror_mode": {
    "name": "ipython",
    "version": 3
   },
   "file_extension": ".py",
   "mimetype": "text/x-python",
   "name": "python",
   "nbconvert_exporter": "python",
   "pygments_lexer": "ipython3",
   "version": "3.9.7"
  }
 },
 "nbformat": 4,
 "nbformat_minor": 5
}
