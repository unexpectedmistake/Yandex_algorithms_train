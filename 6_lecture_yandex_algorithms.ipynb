{
 "cells": [
  {
   "cell_type": "markdown",
   "id": "35382e7e",
   "metadata": {},
   "source": [
    "## Лекция 6 - Бинарный поиск\n",
    "[Link](https://www.youtube.com/watch?v=YENpZexHfuk)"
   ]
  },
  {
   "cell_type": "code",
   "execution_count": null,
   "id": "8745738e",
   "metadata": {},
   "outputs": [],
   "source": []
  },
  {
   "cell_type": "code",
   "execution_count": null,
   "id": "ebc46027",
   "metadata": {
    "ExecuteTime": {
     "end_time": "2022-06-25T13:14:00.215835Z",
     "start_time": "2022-06-25T13:14:00.194651Z"
    }
   },
   "outputs": [],
   "source": [
    "def lbinsearch(l, r, check, checkparams):\n",
    "    while l < r:\n",
    "        m = (l + r) // 2\n",
    "        if check(m, checkparams):\n",
    "            r = m\n",
    "        else:\n",
    "            l = m + 1\n",
    "    return l"
   ]
  },
  {
   "cell_type": "code",
   "execution_count": null,
   "id": "ea820362",
   "metadata": {
    "ExecuteTime": {
     "end_time": "2022-06-25T13:14:24.569708Z",
     "start_time": "2022-06-25T13:14:24.564222Z"
    }
   },
   "outputs": [],
   "source": [
    "def lbinsearch(l, r, check, checkparams):\n",
    "    while l < r:\n",
    "        m = (l + r + 1) // 2\n",
    "        if check(m, checkparams):\n",
    "            l = m\n",
    "        else:\n",
    "            r = m - 1\n",
    "    return l"
   ]
  },
  {
   "cell_type": "markdown",
   "id": "7455c515",
   "metadata": {},
   "source": [
    "### Задача 1\n",
    "> В управляющий совет школы входят родители, учителя и учащиеся школа, причем родителе должно быть не менее одной трети от общегочисла членов совета. В настоящий моментв. совет входит N человек, из них K родителей <br/>\n",
    "\n",
    "Определите, сколько родителей нужно дополнительно ввести в совет, чтобы их число стало составлять не менее трети от числа членов совета."
   ]
  },
  {
   "cell_type": "markdown",
   "id": "33e22312",
   "metadata": {},
   "source": [
    "### Решение\n",
    "Будем искать минимальное количество родителей, которых нужно добавить, бинарным поиском. Не забываем, что новые родители добавлются к общему числу членов совета. Не используем деление. L = 0, R = N"
   ]
  },
  {
   "cell_type": "code",
   "execution_count": null,
   "id": "bd3d6e48",
   "metadata": {
    "ExecuteTime": {
     "end_time": "2022-06-25T13:42:57.582417Z",
     "start_time": "2022-06-25T13:42:57.576018Z"
    }
   },
   "outputs": [],
   "source": [
    "def checkendownment(m, params):\n",
    "    n, k = params\n",
    "    return (k + m) * 3 >= n + m"
   ]
  },
  {
   "cell_type": "code",
   "execution_count": null,
   "id": "b42d799b",
   "metadata": {
    "ExecuteTime": {
     "end_time": "2022-06-25T13:42:11.014656Z",
     "start_time": "2022-06-25T13:42:11.009727Z"
    }
   },
   "outputs": [],
   "source": [
    "def lbinsearch(l, r, check, checkparams):\n",
    "    while l < r:\n",
    "        m = (l + r) // 2\n",
    "        if check(m, checkparams):\n",
    "            r = m\n",
    "        else:\n",
    "            l = m + 1\n",
    "    return l"
   ]
  },
  {
   "cell_type": "code",
   "execution_count": null,
   "id": "ac479387",
   "metadata": {},
   "outputs": [],
   "source": []
  },
  {
   "cell_type": "markdown",
   "id": "d388c717",
   "metadata": {},
   "source": [
    "### Задача 2\n",
    "> Юра решил подготовиться к собеседованию в Яндекс. Он выбрал на сайте leetcode N задач. В первый день Юра решил K  задач, а в каждый следующий день Юра решал на одну задачу больше, чем в предыдущий день <br/>\n",
    "\n",
    "Определите, сколько дней уйдет у Юры на подготовку к собеседованию."
   ]
  },
  {
   "cell_type": "markdown",
   "id": "56a62f05",
   "metadata": {},
   "source": [
    "### Решение\n",
    "Будем искать минимальное количество дней, достаточное для решения не менее N задач, бинарным поиском; Нам понадобится формула арифметической прогресси. L = 0, R = 0"
   ]
  },
  {
   "cell_type": "code",
   "execution_count": null,
   "id": "39b7944a",
   "metadata": {
    "ExecuteTime": {
     "end_time": "2022-06-25T13:50:55.842918Z",
     "start_time": "2022-06-25T13:50:55.838339Z"
    }
   },
   "outputs": [],
   "source": [
    "def checkendownment(days, params):\n",
    "    n, k = params\n",
    "    return (k + (k + days -1)) * days // 2 >= n"
   ]
  },
  {
   "cell_type": "code",
   "execution_count": null,
   "id": "8a269099",
   "metadata": {
    "ExecuteTime": {
     "end_time": "2022-06-25T13:50:55.967423Z",
     "start_time": "2022-06-25T13:50:55.955270Z"
    }
   },
   "outputs": [],
   "source": [
    "def lbinsearch(l, r, check, checkparams):\n",
    "    while l < r:\n",
    "        m = (l + r) // 2\n",
    "        if check(m, checkparams):\n",
    "            r = m\n",
    "        else:\n",
    "            l = m + 1\n",
    "    return l"
   ]
  },
  {
   "cell_type": "markdown",
   "id": "600a7550",
   "metadata": {},
   "source": [
    "### Задача 3\n",
    "Определите максимальную длину стороны стикера, чтобы все стикеры поместились на доске."
   ]
  },
  {
   "cell_type": "markdown",
   "id": "b97fa5d4",
   "metadata": {},
   "source": [
    "### Решение\n",
    "Будем искать максимальную сторону стикера бинарным поиском"
   ]
  },
  {
   "cell_type": "code",
   "execution_count": null,
   "id": "cdb42551",
   "metadata": {
    "ExecuteTime": {
     "end_time": "2022-06-25T14:00:46.086379Z",
     "start_time": "2022-06-25T14:00:46.079918Z"
    }
   },
   "outputs": [],
   "source": [
    "def checkstikers(size, params):\n",
    "    n, w, h = params\n",
    "    return (w // size) * (h // size) >= n"
   ]
  },
  {
   "cell_type": "code",
   "execution_count": null,
   "id": "fd76f3f7",
   "metadata": {
    "ExecuteTime": {
     "end_time": "2022-06-26T09:19:54.403935Z",
     "start_time": "2022-06-26T09:19:54.375605Z"
    }
   },
   "outputs": [],
   "source": [
    "def rbinsearch(l, r, check, checkparams):\n",
    "    while i != r:\n",
    "        m = (l + r +1) // 2\n",
    "        if check(m, checkparams):\n",
    "            l = m\n",
    "        else:\n",
    "            r = m -1"
   ]
  },
  {
   "cell_type": "markdown",
   "id": "cdc7bb36",
   "metadata": {},
   "source": [
    "### Задача 4\n",
    "> Задача отсортированная по неубыванию последовательность из N чисел и число X.\n",
    "\n",
    "Необходимо определить индекс первого числа в последовательности, которое больше либо равно X. Если такого числа нет, то вернуть число N."
   ]
  },
  {
   "cell_type": "markdown",
   "id": "9747f163",
   "metadata": {},
   "source": [
    "### Решение\n",
    "Воспользуемся левым бинпоиском для поиска первого подходящего числа. В случае, если бинпоиск сошелся к числу, меньшему X вернем N."
   ]
  },
  {
   "cell_type": "code",
   "execution_count": null,
   "id": "1d5a3093",
   "metadata": {
    "ExecuteTime": {
     "end_time": "2022-06-26T09:23:55.498206Z",
     "start_time": "2022-06-26T09:23:55.491091Z"
    }
   },
   "outputs": [],
   "source": [
    "def checkisge(index, params):\n",
    "    seq, x = params\n",
    "    return seq[index] >= x"
   ]
  },
  {
   "cell_type": "code",
   "execution_count": null,
   "id": "c35a369b",
   "metadata": {
    "ExecuteTime": {
     "end_time": "2022-06-26T09:24:38.792462Z",
     "start_time": "2022-06-26T09:24:38.786097Z"
    }
   },
   "outputs": [],
   "source": [
    "def findfirstge(seq, x):\n",
    "    ans = lbinsearch(0, len(seq) - 1, checkisge, (seq, x))\n",
    "    if seq[ans] < x:\n",
    "        return len(seq)\n",
    "    return ans"
   ]
  },
  {
   "cell_type": "markdown",
   "id": "42292d51",
   "metadata": {},
   "source": [
    "### Задача 5\n",
    "> Задача отсортированная по неубыванию последовательность из N чисел и число X.\n",
    "\n",
    "Необходимо определить сколько раз число X входит в последовательность."
   ]
  },
  {
   "cell_type": "markdown",
   "id": "51c26878",
   "metadata": {},
   "source": [
    "### Решение\n",
    "Найдем одним левым бинпоиском первое число больше либо равное X, а вторым левым бинпоиском - число строго большее X. Разность индексов и будет количеством вхождений."
   ]
  },
  {
   "cell_type": "code",
   "execution_count": null,
   "id": "50690720",
   "metadata": {
    "ExecuteTime": {
     "end_time": "2022-06-26T09:31:24.326462Z",
     "start_time": "2022-06-26T09:31:24.321489Z"
    }
   },
   "outputs": [],
   "source": [
    "def checkisgt(index, params):\n",
    "    seq, x = params\n",
    "    return seq[index] > x"
   ]
  },
  {
   "cell_type": "code",
   "execution_count": null,
   "id": "930d9eed",
   "metadata": {
    "ExecuteTime": {
     "end_time": "2022-06-26T09:31:45.893683Z",
     "start_time": "2022-06-26T09:31:45.889590Z"
    }
   },
   "outputs": [],
   "source": [
    "def cehckisge(index, params):\n",
    "    seq, x = params\n",
    "    return seq[index] >= x"
   ]
  },
  {
   "cell_type": "code",
   "execution_count": null,
   "id": "3eb6e8ac",
   "metadata": {
    "ExecuteTime": {
     "end_time": "2022-06-26T09:33:00.150781Z",
     "start_time": "2022-06-26T09:33:00.145371Z"
    }
   },
   "outputs": [],
   "source": [
    "def findfirsrt(seq, x, check):\n",
    "    ans = lbinsearch(0, len(seq) - 1, check,(seq, x))\n",
    "    if not check(ans, (seq, x)):\n",
    "        return len(seq)\n",
    "    return ans"
   ]
  },
  {
   "cell_type": "code",
   "execution_count": null,
   "id": "bed816d0",
   "metadata": {
    "ExecuteTime": {
     "end_time": "2022-06-26T09:33:41.208717Z",
     "start_time": "2022-06-26T09:33:41.204047Z"
    }
   },
   "outputs": [],
   "source": [
    "def countx(seq, x):\n",
    "    indexgt = findfirst(seq, x, checkisgt)\n",
    "    indexge = findfirst(seq, x, checkisge)\n",
    "    return indexgt - indexge"
   ]
  },
  {
   "cell_type": "markdown",
   "id": "04132a01",
   "metadata": {},
   "source": [
    "### Задача 6\n",
    "> Задана процентная ставка по кредиту (X% годовых), срок кредитования (N месяцев) и сумма кредита (M рублей).\n",
    "\n",
    "Необходимо рассчитать размер аннуитетного ежемесячного платежа."
   ]
  },
  {
   "cell_type": "markdown",
   "id": "15fa9a9a",
   "metadata": {},
   "source": [
    "### Решение\n",
    "Будем перебирать сумму платежа бинпоиском, а в качестве проверки моделировать процесс ежемесячной вылпаты, уменьшая тело кредита на разницу между суммой платежа и ежемесячным процентом"
   ]
  },
  {
   "cell_type": "code",
   "execution_count": null,
   "id": "6629639d",
   "metadata": {
    "ExecuteTime": {
     "end_time": "2022-06-26T10:07:28.653811Z",
     "start_time": "2022-06-26T10:07:28.648080Z"
    }
   },
   "outputs": [],
   "source": [
    "def checkcredit(mpay, params):\n",
    "    periods, creditsum, mperc = params\n",
    "    for i in range(periods):\n",
    "        percpay = creditsum * (mperc / 100)\n",
    "        creditsum -= mpay - percpay\n",
    "    return creditsum <= 0"
   ]
  },
  {
   "cell_type": "code",
   "execution_count": null,
   "id": "cdfac3ac",
   "metadata": {
    "ExecuteTime": {
     "end_time": "2022-06-26T10:07:28.855765Z",
     "start_time": "2022-06-26T10:07:28.847648Z"
    }
   },
   "outputs": [],
   "source": [
    "def fbinsearch(l, r, eps, check, checkparams):\n",
    "    while l + eps < r:\n",
    "        m = (l + r) / 2\n",
    "        if check(m, checkparams):\n",
    "            f = m\n",
    "        else:\n",
    "            l = m\n",
    "    return l"
   ]
  },
  {
   "cell_type": "code",
   "execution_count": null,
   "id": "b451ad93",
   "metadata": {
    "ExecuteTime": {
     "end_time": "2022-06-26T10:12:17.832780Z",
     "start_time": "2022-06-26T10:10:55.934635Z"
    }
   },
   "outputs": [],
   "source": [
    "eps = 0.01\n",
    "m = 10**7\n",
    "n = 300 \n",
    "mperc = 7\n",
    "monthlypay = fbinsearch(0, m, eps, checkcredit, (n, m, mperc))\n",
    "print(monthlypay)"
   ]
  },
  {
   "cell_type": "code",
   "execution_count": null,
   "id": "e8d75666",
   "metadata": {},
   "outputs": [],
   "source": []
  },
  {
   "cell_type": "markdown",
   "id": "c2dfdaa0",
   "metadata": {},
   "source": [
    "### Задача 7\n",
    "Необходимо найти момент времени, когда расстояние станет минимальным"
   ]
  },
  {
   "cell_type": "markdown",
   "id": "5d1ecf93",
   "metadata": {},
   "source": [
    "### Решение\n",
    "Определим функицю dist(t), которая будет за O(N) определять расстояние между лидером и замыкающим в момент времени t. Если dist(t+e) > dist(t), то функция растет и надо сдвинуть левую границу поиска, иначе - правую"
   ]
  },
  {
   "cell_type": "code",
   "execution_count": 4,
   "id": "a2dc6148",
   "metadata": {
    "ExecuteTime": {
     "end_time": "2022-06-26T10:19:17.162601Z",
     "start_time": "2022-06-26T10:19:17.157019Z"
    }
   },
   "outputs": [],
   "source": [
    "def dist(t, params):\n",
    "    x, v = params\n",
    "    minpos = maxpos = x[0] + v[0] * t\n",
    "    for i in range(1, len(x)):\n",
    "        nowpos = x[i] + v[i] * t\n",
    "        minpos = min(minpos, nowpos)\n",
    "        maxpos = max(maxpos, nowpos)\n",
    "    return maxpos - mispos"
   ]
  },
  {
   "cell_type": "code",
   "execution_count": 5,
   "id": "7437d160",
   "metadata": {
    "ExecuteTime": {
     "end_time": "2022-06-26T10:19:40.874049Z",
     "start_time": "2022-06-26T10:19:40.870309Z"
    }
   },
   "outputs": [],
   "source": [
    "def checkasc(t, eps, params):\n",
    "    return dist(t + eps, params) >= dist(t, params)"
   ]
  },
  {
   "cell_type": "code",
   "execution_count": 6,
   "id": "21ea2bb4",
   "metadata": {
    "ExecuteTime": {
     "end_time": "2022-06-26T10:20:59.570364Z",
     "start_time": "2022-06-26T10:20:59.566334Z"
    }
   },
   "outputs": [],
   "source": [
    "def fbinsearch(l, r, eps, check, params):\n",
    "    while l + eps < r:\n",
    "        m = (l + r) / 2\n",
    "        if checkasc(m, eps, params):\n",
    "            r = m\n",
    "        else:\n",
    "            l = m\n",
    "    return l"
   ]
  },
  {
   "cell_type": "code",
   "execution_count": null,
   "id": "15638af7",
   "metadata": {},
   "outputs": [],
   "source": []
  },
  {
   "cell_type": "code",
   "execution_count": null,
   "id": "616c560f",
   "metadata": {},
   "outputs": [],
   "source": []
  },
  {
   "cell_type": "code",
   "execution_count": null,
   "id": "8793e1dc",
   "metadata": {
    "collapsed": true
   },
   "outputs": [],
   "source": []
  },
  {
   "cell_type": "code",
   "execution_count": null,
   "id": "4dfc15eb",
   "metadata": {},
   "outputs": [],
   "source": []
  },
  {
   "cell_type": "code",
   "execution_count": null,
   "id": "4a64a2ef",
   "metadata": {},
   "outputs": [],
   "source": []
  },
  {
   "cell_type": "code",
   "execution_count": null,
   "id": "dadc9115",
   "metadata": {},
   "outputs": [],
   "source": []
  },
  {
   "cell_type": "code",
   "execution_count": null,
   "id": "6dad792a",
   "metadata": {},
   "outputs": [],
   "source": []
  },
  {
   "cell_type": "code",
   "execution_count": null,
   "id": "181293dd",
   "metadata": {},
   "outputs": [],
   "source": []
  }
 ],
 "metadata": {
  "kernelspec": {
   "display_name": "Python 3 (ipykernel)",
   "language": "python",
   "name": "python3"
  },
  "language_info": {
   "codemirror_mode": {
    "name": "ipython",
    "version": 3
   },
   "file_extension": ".py",
   "mimetype": "text/x-python",
   "name": "python",
   "nbconvert_exporter": "python",
   "pygments_lexer": "ipython3",
   "version": "3.9.7"
  }
 },
 "nbformat": 4,
 "nbformat_minor": 5
}
