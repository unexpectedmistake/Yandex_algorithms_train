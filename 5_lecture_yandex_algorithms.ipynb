{
 "cells": [
  {
   "cell_type": "markdown",
   "id": "2c8ea334",
   "metadata": {},
   "source": [
    "## Лекция 5 - Префиксные суммы и два указателя\n",
    "[Link](https://youtu.be/de28y8Dcvkg)"
   ]
  },
  {
   "cell_type": "markdown",
   "id": "15855883",
   "metadata": {},
   "source": [
    "## Префиксные суммы"
   ]
  },
  {
   "cell_type": "markdown",
   "id": "f43ec765",
   "metadata": {},
   "source": [
    "> Пусть у нас есть массив nums из N числе и необходимость отвечать на запросы \"Чему равна сумма элементов на полуинтервале [L,R)\"\n",
    "\n",
    "> Подсчитаем массив prefixsum длиной N+1, где  prefixsum[k] будет хранить сумму всех чисел из nums с индексами от 0 до k-1"
   ]
  },
  {
   "cell_type": "markdown",
   "id": "1615f49b",
   "metadata": {},
   "source": [
    "Массив можно построить за O(N): prefixsum[i] = prefixsum[i-1] + nums[i-1]"
   ]
  },
  {
   "cell_type": "code",
   "execution_count": 1,
   "id": "2a61a3e9",
   "metadata": {
    "ExecuteTime": {
     "end_time": "2022-05-31T08:26:22.438624Z",
     "start_time": "2022-05-31T08:26:22.408859Z"
    }
   },
   "outputs": [],
   "source": [
    "def makeprefixsum(nums):\n",
    "    prefixsum = [0] * (len(nums) + 1)\n",
    "    for i in range(1, len(nums) + 1):\n",
    "        prefixsum[i] = prefixsum[i - 1] + nums[i - 1]\n",
    "    return prefixsum"
   ]
  },
  {
   "cell_type": "code",
   "execution_count": 2,
   "id": "4507548b",
   "metadata": {
    "ExecuteTime": {
     "end_time": "2022-05-31T08:26:53.658729Z",
     "start_time": "2022-05-31T08:26:53.654229Z"
    }
   },
   "outputs": [],
   "source": [
    "# range sum qury function\n",
    "def rsq(prefixsum, l, r):\n",
    "    return prefisxum[r] - prefixsum[l]"
   ]
  },
  {
   "cell_type": "markdown",
   "id": "7a4c3278",
   "metadata": {},
   "source": [
    "### Задача 1\n",
    "> Дана последовательность числе длиной N и M запросов <br/>\n",
    "\n",
    "Сколько нулей на полуинтервале [L,R)"
   ]
  },
  {
   "cell_type": "markdown",
   "id": "53b8b267",
   "metadata": {},
   "source": [
    "### Решение\n",
    "Для каждого запроса перебираем все числа от L до R (не включительно) и считаем количество нулей. В худшем случае каждый запрос за O(N)-> все решение за O(NM)."
   ]
  },
  {
   "cell_type": "code",
   "execution_count": 31,
   "id": "b08a8cc9",
   "metadata": {
    "ExecuteTime": {
     "end_time": "2022-05-31T09:00:58.385261Z",
     "start_time": "2022-05-31T09:00:58.380375Z"
    }
   },
   "outputs": [],
   "source": [
    "def countzeros(nums, l, r):\n",
    "    cnt = 0\n",
    "    for i in range(l,r):\n",
    "        if nums[i] == 0:\n",
    "            cnt += 1\n",
    "    return cnt"
   ]
  },
  {
   "cell_type": "code",
   "execution_count": 43,
   "id": "91fd7dea",
   "metadata": {
    "ExecuteTime": {
     "end_time": "2022-05-31T09:06:09.922114Z",
     "start_time": "2022-05-31T09:06:09.913803Z"
    }
   },
   "outputs": [
    {
     "data": {
      "text/plain": [
       "3"
      ]
     },
     "execution_count": 43,
     "metadata": {},
     "output_type": "execute_result"
    }
   ],
   "source": [
    "a = [1,4,5,0,9,60,0,0,3,2,4,8,0,0,7,8,9]\n",
    "countzeros(a,0,9)"
   ]
  },
  {
   "cell_type": "markdown",
   "id": "64238862",
   "metadata": {},
   "source": [
    "Но можем использовать префиксные суммы и получить решение за O(N+M): <br/>\n",
    "Для каждого префикса посчитаем количество нулей на нем, и тогда ответ на запрос на полуинтервале [L,R): prefixzeros[R] - prefixzeros[L]"
   ]
  },
  {
   "cell_type": "code",
   "execution_count": 54,
   "id": "aa808977",
   "metadata": {
    "ExecuteTime": {
     "end_time": "2022-05-31T09:07:12.217279Z",
     "start_time": "2022-05-31T09:07:12.210878Z"
    }
   },
   "outputs": [],
   "source": [
    "def makeprefixzeros(nums):\n",
    "    prefixzeros = [0] * (len(nums) + 1)\n",
    "    for i in range(1, len(nums) + 1):\n",
    "        if nums[i-1] == 0:\n",
    "            prefixzeros[i] = prefixzeros[i - 1] + 1\n",
    "        else:\n",
    "            prefixzeros[i] = prefixzeros[i-1]\n",
    "    return prefixzeros\n",
    "\n",
    "def countzeros(prefixzeros, l, r):\n",
    "    return prefixzeros[r] - prefixzeros[l]"
   ]
  },
  {
   "cell_type": "code",
   "execution_count": 55,
   "id": "53a7b181",
   "metadata": {
    "ExecuteTime": {
     "end_time": "2022-05-31T09:07:12.648442Z",
     "start_time": "2022-05-31T09:07:12.639404Z"
    }
   },
   "outputs": [
    {
     "data": {
      "text/plain": [
       "3"
      ]
     },
     "execution_count": 55,
     "metadata": {},
     "output_type": "execute_result"
    }
   ],
   "source": [
    "countzeros(makeprefixzeros(a), 0, 9)"
   ]
  },
  {
   "cell_type": "markdown",
   "id": "c7c2b1ef",
   "metadata": {
    "ExecuteTime": {
     "end_time": "2022-05-31T09:08:20.565406Z",
     "start_time": "2022-05-31T09:08:20.558532Z"
    }
   },
   "source": [
    "### Задача 2\n",
    "> Дана последовательность чисел длиной N <br/>\n",
    "\n",
    "Необходимо найти количество отрезков с нулевой суммой."
   ]
  },
  {
   "cell_type": "markdown",
   "id": "d88ab921",
   "metadata": {},
   "source": [
    "### Решение\n",
    "За $O(N^3)$ (три цикла): переберем начало и конец отрезка и просто просуммируем все его элементы <br/>\n",
    "За $O(N^2)$ (два цикла): переберем начало и будем двигать конец, суммируя элементы"
   ]
  },
  {
   "cell_type": "markdown",
   "id": "9ffd1d44",
   "metadata": {},
   "source": [
    "За $O(N)$ (два цикла): посчитаем префиксные суммы. Одинаковые префиксные суммы означают, что сумма на отрезке с началом и концом в позициях, на которых достигаются одинаковые префиксные суммы, будет равна нулю"
   ]
  },
  {
   "cell_type": "code",
   "execution_count": 62,
   "id": "e180efff",
   "metadata": {
    "ExecuteTime": {
     "end_time": "2022-05-31T10:50:57.929787Z",
     "start_time": "2022-05-31T10:50:57.923550Z"
    }
   },
   "outputs": [],
   "source": [
    "def countprefixsums(nums):\n",
    "    prefixsumbyvalue = {0:1}\n",
    "    nowsum = 0\n",
    "    for now in nums:\n",
    "        nowsum += now\n",
    "        if nowsum not in prefixsumbyvalue:\n",
    "            prefixsumbyvalue[nowsum] = 0\n",
    "        prefixsumbyvalue[nowsum] += 1\n",
    "    return prefixsumbyvalue\n",
    "\n",
    "def countzerosumranges(prefixsumbyvalue):\n",
    "    cntranges = 0\n",
    "    for nowsum in prefixsumbyvalue:\n",
    "        cntsum = prefixsumbyvalue[nowsum]\n",
    "        cntranges += cntsum * (cntsum - 1) // 2\n",
    "    return cntranges"
   ]
  },
  {
   "cell_type": "code",
   "execution_count": 117,
   "id": "767a07a3",
   "metadata": {
    "ExecuteTime": {
     "end_time": "2022-05-31T16:32:15.763214Z",
     "start_time": "2022-05-31T16:32:15.757783Z"
    }
   },
   "outputs": [],
   "source": [
    "nums = [4, -4, -5,5]"
   ]
  },
  {
   "cell_type": "code",
   "execution_count": 118,
   "id": "4bb58e65",
   "metadata": {
    "ExecuteTime": {
     "end_time": "2022-05-31T16:32:16.078974Z",
     "start_time": "2022-05-31T16:32:16.069330Z"
    }
   },
   "outputs": [
    {
     "data": {
      "text/plain": [
       "{0: 3, 4: 1, -5: 1}"
      ]
     },
     "execution_count": 118,
     "metadata": {},
     "output_type": "execute_result"
    }
   ],
   "source": [
    "countprefixsums(nums)"
   ]
  },
  {
   "cell_type": "code",
   "execution_count": 119,
   "id": "89041962",
   "metadata": {
    "ExecuteTime": {
     "end_time": "2022-05-31T16:32:16.369055Z",
     "start_time": "2022-05-31T16:32:16.362341Z"
    }
   },
   "outputs": [
    {
     "data": {
      "text/plain": [
       "3"
      ]
     },
     "execution_count": 119,
     "metadata": {},
     "output_type": "execute_result"
    }
   ],
   "source": [
    "countzerosumranges(countprefixsums(nums))"
   ]
  },
  {
   "cell_type": "markdown",
   "id": "9380caad",
   "metadata": {},
   "source": [
    "## Два указателя"
   ]
  },
  {
   "cell_type": "markdown",
   "id": "87a70065",
   "metadata": {},
   "source": [
    "### Задача 3\n",
    "> Дана отсортированная последовательность чисел длиной N и число K <br/>\n",
    "\n",
    "Необходимо найти количество пар чисел A,B, таких что B-A>K."
   ]
  },
  {
   "cell_type": "markdown",
   "id": "d56ecd39",
   "metadata": {},
   "source": [
    "### Решение\n",
    "За $O(N^2)$: переберем все пары чисел и для каждой проверим условие"
   ]
  },
  {
   "cell_type": "code",
   "execution_count": 133,
   "id": "4f842953",
   "metadata": {
    "ExecuteTime": {
     "end_time": "2022-05-31T16:48:26.244314Z",
     "start_time": "2022-05-31T16:48:26.239701Z"
    }
   },
   "outputs": [],
   "source": [
    "def cntpairswithdiffgtk(sortednums, k):\n",
    "    cntpairs = 0\n",
    "    for first in range(len(sortednums)):\n",
    "        for last in range(first, len(sortednums)):\n",
    "            if sortednums[last] - sortednums[first] > k:\n",
    "                cntpairs += 1\n",
    "    return cntpairs"
   ]
  },
  {
   "cell_type": "code",
   "execution_count": 134,
   "id": "9d8699d7",
   "metadata": {
    "ExecuteTime": {
     "end_time": "2022-05-31T16:48:26.523623Z",
     "start_time": "2022-05-31T16:48:26.510817Z"
    }
   },
   "outputs": [
    {
     "data": {
      "text/plain": [
       "6"
      ]
     },
     "execution_count": 134,
     "metadata": {},
     "output_type": "execute_result"
    }
   ],
   "source": [
    "sortednums = [3,4,5,6,7,8,9,10]\n",
    "cntpairswithdiffgtk(sortednums, 4)"
   ]
  },
  {
   "cell_type": "markdown",
   "id": "abdefffd",
   "metadata": {},
   "source": [
    "За $O(N)$: Возьмем наименьшее число и найдем для него первое подходящее большее. Все еще большие числа точно подходят. Возьмем в качестве меньшего числа следующее, а указатель первого подходящего большего будем двигать начиная с той позиции, где он находится сейчас."
   ]
  },
  {
   "cell_type": "code",
   "execution_count": 145,
   "id": "6515754d",
   "metadata": {
    "ExecuteTime": {
     "end_time": "2022-05-31T17:21:28.170915Z",
     "start_time": "2022-05-31T17:21:28.166000Z"
    }
   },
   "outputs": [],
   "source": [
    "def cntpairswithdiffgtk(sortednums, k):\n",
    "    cntpairs = 0\n",
    "    last = 0\n",
    "    for first in range(len(sortednums)):\n",
    "        while last < len(sortednums) and sortednums[last] - sortednums[first] <= k:\n",
    "            last += 1\n",
    "        cntpairs += len(sortednums) - last\n",
    "    return cntpairs"
   ]
  },
  {
   "cell_type": "code",
   "execution_count": 146,
   "id": "86b900a5",
   "metadata": {
    "ExecuteTime": {
     "end_time": "2022-05-31T17:21:28.329576Z",
     "start_time": "2022-05-31T17:21:28.322311Z"
    }
   },
   "outputs": [
    {
     "data": {
      "text/plain": [
       "6"
      ]
     },
     "execution_count": 146,
     "metadata": {},
     "output_type": "execute_result"
    }
   ],
   "source": [
    "cntpairswithdiffgtk(sortednums, 4)"
   ]
  },
  {
   "cell_type": "markdown",
   "id": "dfdee4e3",
   "metadata": {},
   "source": [
    "### Задача 4"
   ]
  },
  {
   "cell_type": "code",
   "execution_count": 161,
   "id": "c4538acb",
   "metadata": {
    "ExecuteTime": {
     "end_time": "2022-05-31T17:41:35.035538Z",
     "start_time": "2022-05-31T17:41:35.030923Z"
    }
   },
   "outputs": [],
   "source": [
    "def bestteamsum(players):\n",
    "    bestsum = 0\n",
    "    nowsum = 0\n",
    "    last = 0\n",
    "    for first in range(len(players)):\n",
    "        while last < len(players) and (last == fisrt or players[first] + players[fisrt + 1] >= players[last]):\n",
    "            nowsum += players[last]\n",
    "            last += 1\n",
    "        bestsum = mas(bestsum, nowsum)\n",
    "        nowsum -= players[fisrt]\n",
    "    return bestsum"
   ]
  },
  {
   "cell_type": "markdown",
   "id": "43716def",
   "metadata": {},
   "source": [
    "### Задача 5"
   ]
  },
  {
   "cell_type": "markdown",
   "id": "eaa8a5f6",
   "metadata": {},
   "source": [
    "> Даны две отсортированные последовательности чисел (длиной N и M соответственно)\n",
    "\n",
    "Необходимо слить их в одну отсортированную последовательность"
   ]
  },
  {
   "cell_type": "markdown",
   "id": "b2dc2059",
   "metadata": {},
   "source": [
    "### Решение\n",
    "Поставим два указателя на начало каждой из последовательностей. Выберем тот, который указывает на меньшее число, запишем это число в результат и сдвинем указатель."
   ]
  },
  {
   "cell_type": "code",
   "execution_count": 170,
   "id": "a901ea77",
   "metadata": {
    "ExecuteTime": {
     "end_time": "2022-06-01T07:44:56.690239Z",
     "start_time": "2022-06-01T07:44:56.682286Z"
    }
   },
   "outputs": [],
   "source": [
    "# not ideal solution\n",
    "def merge(nums1, nums2):\n",
    "    merged = [0] * (len(nums1) + len(nums2))\n",
    "    first1 = first2 = 0\n",
    "    inf = max(nums1[-1], nums2[-1]) + 1\n",
    "    nums1.append(inf)\n",
    "    nums2.append(inf)\n",
    "    for k in range(len(nums1) + len(nums2) - 2):\n",
    "        if nums1[first1] <= nums2[first2]:\n",
    "            merged[k] = nums1[first1]\n",
    "            first1 += 1\n",
    "        else:\n",
    "            merged[k] = nums2[first2]\n",
    "            first2 += 1\n",
    "    nums1.pop()\n",
    "    nums2.pop()\n",
    "    return merged"
   ]
  },
  {
   "cell_type": "code",
   "execution_count": 171,
   "id": "d0bbe996",
   "metadata": {
    "ExecuteTime": {
     "end_time": "2022-06-01T07:44:56.921045Z",
     "start_time": "2022-06-01T07:44:56.911007Z"
    }
   },
   "outputs": [
    {
     "data": {
      "text/plain": [
       "[1, 2, 3, 4, 4, 5, 6, 9, 10]"
      ]
     },
     "execution_count": 171,
     "metadata": {},
     "output_type": "execute_result"
    }
   ],
   "source": [
    "merge([1,2,3,4], [4,5,6,9,10])"
   ]
  },
  {
   "cell_type": "code",
   "execution_count": 172,
   "id": "a6750aba",
   "metadata": {
    "ExecuteTime": {
     "end_time": "2022-06-01T07:50:57.994579Z",
     "start_time": "2022-06-01T07:50:57.968281Z"
    }
   },
   "outputs": [],
   "source": [
    "# more optimal solution\n",
    "def merge(nums1, nums2):\n",
    "    merged = [0] * (len(nums1) + len(nums2))\n",
    "    first1 = first2 = 0\n",
    "    for k in range(len(nums1) + len(nums2)):\n",
    "        if first1 != len(nums1) and (first2 == len(nums2) or nums1[first1] <= nums2[first2]):\n",
    "            merged[k] = nums1[first1]\n",
    "            first1 += 1\n",
    "        else:\n",
    "            merged[k] = nums2[first2]\n",
    "            first2 += 1\n",
    "    return merged"
   ]
  },
  {
   "cell_type": "code",
   "execution_count": 173,
   "id": "77017811",
   "metadata": {
    "ExecuteTime": {
     "end_time": "2022-06-01T07:51:05.813424Z",
     "start_time": "2022-06-01T07:51:05.806972Z"
    }
   },
   "outputs": [
    {
     "data": {
      "text/plain": [
       "[1, 2, 3, 4, 4, 5, 6, 9, 10]"
      ]
     },
     "execution_count": 173,
     "metadata": {},
     "output_type": "execute_result"
    }
   ],
   "source": [
    "merge([1,2,3,4], [4,5,6,9,10])"
   ]
  },
  {
   "cell_type": "code",
   "execution_count": null,
   "id": "bb8859be",
   "metadata": {},
   "outputs": [],
   "source": []
  },
  {
   "cell_type": "code",
   "execution_count": null,
   "id": "857d24a0",
   "metadata": {},
   "outputs": [],
   "source": []
  },
  {
   "cell_type": "code",
   "execution_count": null,
   "id": "956e1f61",
   "metadata": {},
   "outputs": [],
   "source": []
  },
  {
   "cell_type": "markdown",
   "id": "ec4c2c5d",
   "metadata": {},
   "source": [
    "### Домашнее задание\n",
    "[Link](https://contest.yandex.ru/contest/29075)"
   ]
  },
  {
   "cell_type": "code",
   "execution_count": null,
   "id": "2cff6594",
   "metadata": {},
   "outputs": [],
   "source": []
  },
  {
   "cell_type": "code",
   "execution_count": null,
   "id": "d1665b23",
   "metadata": {},
   "outputs": [],
   "source": []
  },
  {
   "cell_type": "code",
   "execution_count": null,
   "id": "b952f4e9",
   "metadata": {},
   "outputs": [],
   "source": []
  }
 ],
 "metadata": {
  "kernelspec": {
   "display_name": "Python 3 (ipykernel)",
   "language": "python",
   "name": "python3"
  },
  "language_info": {
   "codemirror_mode": {
    "name": "ipython",
    "version": 3
   },
   "file_extension": ".py",
   "mimetype": "text/x-python",
   "name": "python",
   "nbconvert_exporter": "python",
   "pygments_lexer": "ipython3",
   "version": "3.9.7"
  }
 },
 "nbformat": 4,
 "nbformat_minor": 5
}
