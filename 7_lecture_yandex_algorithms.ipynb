{
 "cells": [
  {
   "cell_type": "markdown",
   "id": "a6e25710",
   "metadata": {},
   "source": [
    "## Лекция 7 - Сортировка событий\n",
    "[Link](https://www.youtube.com/watch?v=hGixDBO-p6Q])"
   ]
  },
  {
   "cell_type": "markdown",
   "id": "bb657e44",
   "metadata": {},
   "source": [
    "### Что такое сортировка событий\n",
    "- Пусть есть некоторые отрезки во времени - например, отрезок когда человек находился на сайте, т.е. известно его время входа и выхода\n",
    "- Что-то интересное просиходит только в те моменты, когда человек приходит или уходит - само событие\n",
    "- Надо что-то посчитать"
   ]
  },
  {
   "cell_type": "markdown",
   "id": "fa3a3ade",
   "metadata": {},
   "source": [
    "### Задача 1\n",
    "> Сайт посетило N человек, для каждого известно время входа на сайт In, и время выхода с сайта Out. Считается, что человек был на сайте с момента In по Out включительно <br/>\n",
    "\n",
    "Определите, какое максимальное количество человек было на сайте одновременно"
   ]
  },
  {
   "cell_type": "markdown",
   "id": "0d0cdbe0",
   "metadata": {},
   "source": [
    "### Решение\n",
    "Создадим на каждого человека два события: вход и выход. Каждое событие - пара, в которой первое число - время, а второе - типо события.\n",
    "Событие \"вход на сайт\" должно происходить раньше \"выхода с сайта\""
   ]
  },
  {
   "cell_type": "code",
   "execution_count": 2,
   "id": "0a93374d",
   "metadata": {
    "ExecuteTime": {
     "end_time": "2022-07-02T10:13:59.246203Z",
     "start_time": "2022-07-02T10:13:59.239453Z"
    }
   },
   "outputs": [],
   "source": [
    "def maxvisitorsonline(n, tin, tout):\n",
    "    events = []\n",
    "    for i in range(n):\n",
    "        events.append((tin[i], -1))\n",
    "        events.append((tout[i], 1))\n",
    "    events.sort()\n",
    "    online = 0\n",
    "    maxonline = 0\n",
    "    for event in events:\n",
    "        if event[1] == -1:\n",
    "            online += 1\n",
    "        else:\n",
    "            online -=1\n",
    "        maxonline = max(online, maxonline)\n",
    "    return maxonline"
   ]
  },
  {
   "cell_type": "markdown",
   "id": "2b18e7e8",
   "metadata": {},
   "source": [
    "### Задача 2\n",
    "\n",
    "Определите, какое суммарное время на сайте был хотя бы один человек"
   ]
  },
  {
   "cell_type": "markdown",
   "id": "3802385e",
   "metadata": {},
   "source": [
    "### Решение\n",
    "Есои мы пришли в событие с положительным счетчиком количества людей, то между этим и предыдущим событием на сайте кто-то был. Прибавим к ответу время между текущим и предыдущим событием."
   ]
  },
  {
   "cell_type": "code",
   "execution_count": 3,
   "id": "2c138937",
   "metadata": {
    "ExecuteTime": {
     "end_time": "2022-07-02T10:24:18.410752Z",
     "start_time": "2022-07-02T10:24:18.405079Z"
    }
   },
   "outputs": [],
   "source": [
    "def timewithvisitors(n, tin, tout):\n",
    "    events = []\n",
    "    for i in range(n):\n",
    "        events.append((tin[i], -1))\n",
    "        events.append((tout[i], 1))\n",
    "    events.sort()\n",
    "    online = 0\n",
    "    notemptytime = 0\n",
    "    for i in range(len(events)):\n",
    "        if online > 0:\n",
    "            notemptytime += events[i][0] - events[i - 1][0]\n",
    "        if events[i][1] == -1:\n",
    "            online += 1\n",
    "        else:\n",
    "            online -= 1\n",
    "    return notemptytime"
   ]
  },
  {
   "cell_type": "code",
   "execution_count": null,
   "id": "239cbe88",
   "metadata": {},
   "outputs": [],
   "source": []
  },
  {
   "cell_type": "markdown",
   "id": "988c7fbf",
   "metadata": {},
   "source": [
    "### Задача 3\n",
    "> Сайт поснтило N человек, для каждого известно время входа на сайт In и время выхода с сатй Out. Считается, что человек был на сайте с момента In по Out включительно. Начальник заходил на сайт M раз в моменты времени Boss и смотрел, сколько люде сейчас онлайн. Посещения сайта начальником упорядочены по возрастанию времени\n",
    "\n",
    "Определите, какие показания счетчика людей онлайн увидел начальник"
   ]
  },
  {
   "cell_type": "markdown",
   "id": "915f3f37",
   "metadata": {},
   "source": [
    "### Решение\n",
    "Создадим третий тип события - вход начальника и при наступлении такого события будем сохранять текущее значение счетчика посетителей"
   ]
  },
  {
   "cell_type": "code",
   "execution_count": 2,
   "id": "0231142b",
   "metadata": {
    "ExecuteTime": {
     "end_time": "2022-07-02T18:23:22.741414Z",
     "start_time": "2022-07-02T18:23:22.731380Z"
    }
   },
   "outputs": [],
   "source": [
    "def bosscoounters(n, tin, tout, m, tboss):\n",
    "    events = []\n",
    "    for i in range(n):\n",
    "        events.append((tin[i], -1))\n",
    "        events.append((tout[i], 1))\n",
    "    for i in range(m):\n",
    "        events.append((tboss[i], 0))\n",
    "    events.sort()\n",
    "    online = 0\n",
    "    bossans = []\n",
    "    for i in range(len(events)):\n",
    "            if events[i][1] == -1:\n",
    "                online += 1\n",
    "            elif events[i][1] == 1:\n",
    "                online -= 1\n",
    "            else:\n",
    "                bossans.append(online)\n",
    "    return bossans"
   ]
  },
  {
   "cell_type": "markdown",
   "id": "2af658e4",
   "metadata": {},
   "source": [
    "### Что такое события на круге\n",
    "- Ежедневно происходящие события\n",
    "- Круг - это сутки\n",
    "- Идеия: разрезать отрезки, проходяшие через полночть, на два"
   ]
  },
  {
   "cell_type": "code",
   "execution_count": null,
   "id": "a14a8fcf",
   "metadata": {},
   "outputs": [],
   "source": []
  },
  {
   "cell_type": "code",
   "execution_count": null,
   "id": "79a9aecb",
   "metadata": {},
   "outputs": [],
   "source": []
  },
  {
   "cell_type": "code",
   "execution_count": null,
   "id": "08dca6e0",
   "metadata": {},
   "outputs": [],
   "source": []
  },
  {
   "cell_type": "code",
   "execution_count": null,
   "id": "b3252a7c",
   "metadata": {},
   "outputs": [],
   "source": []
  },
  {
   "cell_type": "code",
   "execution_count": null,
   "id": "7ee41396",
   "metadata": {},
   "outputs": [],
   "source": []
  },
  {
   "cell_type": "code",
   "execution_count": null,
   "id": "9ddef0d7",
   "metadata": {},
   "outputs": [],
   "source": []
  },
  {
   "cell_type": "code",
   "execution_count": null,
   "id": "c4a5ead4",
   "metadata": {},
   "outputs": [],
   "source": []
  }
 ],
 "metadata": {
  "kernelspec": {
   "display_name": "Python 3 (ipykernel)",
   "language": "python",
   "name": "python3"
  },
  "language_info": {
   "codemirror_mode": {
    "name": "ipython",
    "version": 3
   },
   "file_extension": ".py",
   "mimetype": "text/x-python",
   "name": "python",
   "nbconvert_exporter": "python",
   "pygments_lexer": "ipython3",
   "version": "3.9.7"
  }
 },
 "nbformat": 4,
 "nbformat_minor": 5
}
